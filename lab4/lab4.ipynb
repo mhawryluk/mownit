{
 "cells": [
  {
   "cell_type": "markdown",
   "id": "conventional-updating",
   "metadata": {},
   "source": [
    "# Zestaw 4. Kwadratury "
   ]
  },
  {
   "cell_type": "code",
   "execution_count": 126,
   "id": "going-motorcycle",
   "metadata": {},
   "outputs": [],
   "source": [
    "import numpy as np\n",
    "import matplotlib.pyplot as plt\n",
    "import scipy.interpolate\n",
    "import scipy.special"
   ]
  },
  {
   "cell_type": "markdown",
   "id": "processed-foster",
   "metadata": {},
   "source": [
    "## 1. Kwadratury elementarne\n",
    "Napisz funkcję, która policzy prostą, zamkniętą kwadraturę Simpsona"
   ]
  },
  {
   "cell_type": "code",
   "execution_count": 25,
   "id": "thrown-examination",
   "metadata": {},
   "outputs": [],
   "source": [
    "def simpson_quadrature(f, a, b):\n",
    "    h = b - a\n",
    "    middle = (a + b)/2\n",
    "    return h*(f(a) + 4*f(middle) + f(b))/6"
   ]
  },
  {
   "cell_type": "markdown",
   "id": "presidential-strap",
   "metadata": {},
   "source": [
    "a. Przetestuj jej działanie na jednomianach kolejnych stopni, nie większych niż 5\n",
    "poprzez porównanie wyników z wartościami analitycznymi. Opisz wyniki."
   ]
  },
  {
   "cell_type": "code",
   "execution_count": 26,
   "id": "affected-prize",
   "metadata": {},
   "outputs": [],
   "source": [
    "def test_simpson():\n",
    "    def monomial(i):\n",
    "        return lambda x: x**i\n",
    "    \n",
    "    for i in range(6):\n",
    "        simpson = simpson_quadrature(monomial(i), 0, 1)\n",
    "        actual = 1/(i+1)*monomial(i+1)(1)\n",
    "        print(f\"x^{i}: expected: {actual:.2f}, got: {simpson:.2f}\")"
   ]
  },
  {
   "cell_type": "code",
   "execution_count": 27,
   "id": "computational-prairie",
   "metadata": {},
   "outputs": [
    {
     "name": "stdout",
     "output_type": "stream",
     "text": [
      "x^0: expected: 1.00, got: 1.00\n",
      "x^1: expected: 0.50, got: 0.50\n",
      "x^2: expected: 0.33, got: 0.33\n",
      "x^3: expected: 0.25, got: 0.25\n",
      "x^4: expected: 0.20, got: 0.21\n",
      "x^5: expected: 0.17, got: 0.19\n"
     ]
    }
   ],
   "source": [
    "test_simpson()"
   ]
  },
  {
   "cell_type": "markdown",
   "id": "rotary-cattle",
   "metadata": {},
   "source": [
    "b. Przetestuj jej działanie na funkcji $f(x) = e^{−3x} sin(4x)$ na przedziale x ∈ [0, 5]\n",
    "poprzez wyliczenie jej wartości na całym przedziale, a następnie porównanie z sumą\n",
    "metody na dwóch podprzedziałach [0, 1] i [1, 5]. Czemu wyniki się różnią?"
   ]
  },
  {
   "cell_type": "code",
   "execution_count": 29,
   "id": "fiscal-space",
   "metadata": {},
   "outputs": [
    {
     "name": "stdout",
     "output_type": "stream",
     "text": [
      "        [0,5] -> -0.0010027325181523326\n",
      "[0,1] + [1,5] -> 0.10368557622593555\n"
     ]
    }
   ],
   "source": [
    "f = lambda x: np.e**(-3*x)*np.sin(4*x)\n",
    "print(\"        [0,5] ->\", simpson_quadrature(f, 0, 5))\n",
    "print(\"[0,1] + [1,5] ->\", simpson_quadrature(f, 0, 1) + simpson_quadrature(f, 1, 5))"
   ]
  },
  {
   "cell_type": "markdown",
   "id": "environmental-battery",
   "metadata": {},
   "source": [
    "c. Zaprezentuj na wykresie funkcję f oraz kwadratowy wielomian interpolujący ją w\n",
    "węzłach będących końcami przedziału i jego środkiem. Oblicz kwadraturę wyliczonego w ten sposób wielomianu i porównaj wyniki. W jaki sposób ten wielomian\n",
    "jest powiązany z metodą Simpsona?"
   ]
  },
  {
   "cell_type": "code",
   "execution_count": 30,
   "id": "choice-bookmark",
   "metadata": {},
   "outputs": [
    {
     "data": {
      "image/png": "[encoded data removed]",
      "text/plain": [
       "<Figure size 864x360 with 2 Axes>"
      ]
     },
     "metadata": {
      "needs_background": "light"
     },
     "output_type": "display_data"
    }
   ],
   "source": [
    "fig, ax = plt.subplots(1,2, figsize=(12,5))\n",
    "\n",
    "def plot_interpolation(ax, f, interval, color):\n",
    "    x_axis = np.linspace(interval[0], interval[1], 500)\n",
    "    ax.plot(x_axis, f(x_axis), color='maroon', linewidth=3)\n",
    "    \n",
    "    points = [interval[0], (interval[0]+interval[1])/2, interval[1]]\n",
    "    interpolation = scipy.interpolate.interp1d(points, list(map(f, points)), kind='quadratic')\n",
    "    ax.plot(x_axis, interpolation(x_axis), color=color, linewidth=3)\n",
    "\n",
    "\n",
    "plot_interpolation(ax[0], f, [0, 5], \"pink\")\n",
    "plot_interpolation(ax[1], f, [0, 1], \"orange\")\n",
    "plot_interpolation(ax[1], f, [1, 5], \"yellow\")"
   ]
  },
  {
   "cell_type": "markdown",
   "id": "remarkable-circular",
   "metadata": {},
   "source": [
    "porównaj wyniki. W jaki sposób ten wielomian\n",
    "jest powiązany z metodą Simpsona?\n",
    "\n",
    "(...)"
   ]
  },
  {
   "cell_type": "markdown",
   "id": "fourth-fitness",
   "metadata": {},
   "source": [
    "## 2. Kwadratury adaptacyjne\n",
    "Zaimplementuj adaptacyjną kwadraturę Simpsona. Dla kilku różnych dokładności ε wykonaj poniższe polecenia."
   ]
  },
  {
   "cell_type": "code",
   "execution_count": 32,
   "id": "significant-disposition",
   "metadata": {},
   "outputs": [],
   "source": [
    "def adaptive_quadrature(f, a, b, epsilon):\n",
    "    s_q = simpson_quadrature\n",
    "    mid = (a+b)/2\n",
    "    diff = abs(s_q(f, a, b) - s_q(f, a, mid) - s_q(f, mid, b))\n",
    "    if diff < 15*epsilon:\n",
    "        return s_q(f, a, mid) + s_q(f, mid, b)\n",
    "    return adaptive_quadrature(f, a, mid, epsilon/2) + adaptive_quadrature(f, mid, b, epsilon/2)"
   ]
  },
  {
   "cell_type": "markdown",
   "id": "ranging-danger",
   "metadata": {},
   "source": [
    "a. Przetestuj ją na funkcji f z zadania 1.b i porównaj wyniki z elementarną metodą\n",
    "Simpsona"
   ]
  },
  {
   "cell_type": "code",
   "execution_count": 41,
   "id": "employed-individual",
   "metadata": {},
   "outputs": [
    {
     "data": {
      "text/plain": [
       "0.1599999465166611"
      ]
     },
     "execution_count": 41,
     "metadata": {},
     "output_type": "execute_result"
    }
   ],
   "source": [
    "adaptive_quadrature(f, 0, 5, 1e-10)\n",
    "#porównanie!"
   ]
  },
  {
   "cell_type": "markdown",
   "id": "comic-velvet",
   "metadata": {},
   "source": [
    "b. Zaprezentuj na wykresie funkcję f oraz punkty podziału wyliczone przez metodę\n",
    "adaptacyjną. Opisz wyniki."
   ]
  },
  {
   "cell_type": "code",
   "execution_count": 112,
   "id": "young-brazil",
   "metadata": {},
   "outputs": [],
   "source": [
    "def adaptive_quadrature_points(f, a, b, epsilon, points):\n",
    "    s_q = simpson_quadrature\n",
    "    mid = (a+b)/2\n",
    "    diff = abs(s_q(f, a, b) - s_q(f, a, mid) - s_q(f, mid, b))\n",
    "    \n",
    "    if diff < 15*epsilon:\n",
    "        points.update([a, mid, b])\n",
    "        return s_q(f, a, mid) + s_q(f, mid, b)\n",
    "    \n",
    "    return adaptive_quadrature_points(f, a, mid, epsilon/2, points) + adaptive_quadrature_points(f, mid, b, epsilon/2, points)"
   ]
  },
  {
   "cell_type": "code",
   "execution_count": 113,
   "id": "checked-illustration",
   "metadata": {},
   "outputs": [],
   "source": [
    "def plot_adaptive_points(f, a, b, epsilon, ax):\n",
    "    points=set()\n",
    "    adaptive_quadrature_points(f, a, b, epsilon, points)\n",
    "\n",
    "    x_axis = np.linspace(a, b, 500)\n",
    "    ax.plot(x_axis, f(x_axis), color='maroon', linewidth=3)\n",
    "    points = np.array(list(points))\n",
    "    ax.scatter(points, f(points), zorder=5, color=\"darkblue\")"
   ]
  },
  {
   "cell_type": "code",
   "execution_count": 114,
   "id": "attached-newfoundland",
   "metadata": {},
   "outputs": [
    {
     "data": {
      "image/png": "[encoded data removed]",
      "text/plain": [
       "<Figure size 1296x360 with 3 Axes>"
      ]
     },
     "metadata": {
      "needs_background": "light"
     },
     "output_type": "display_data"
    }
   ],
   "source": [
    "_, ax = plt.subplots(1, 3, figsize=(18, 5))\n",
    "plot_adaptive_points(f, 0, 5, 1e-3, ax[0])\n",
    "plot_adaptive_points(f, 0, 5, 1e-5, ax[1])\n",
    "plot_adaptive_points(f, 0, 5, 1e-8, ax[2])"
   ]
  },
  {
   "cell_type": "markdown",
   "id": "orange-liverpool",
   "metadata": {},
   "source": [
    "wyniki: większa dokładność => więcej punktów. punktów więcej tam gdzie funkcja jest bardziej powyginana"
   ]
  },
  {
   "cell_type": "markdown",
   "id": "accredited-fight",
   "metadata": {},
   "source": [
    "## 3. Wielomiany ortogonalne\n",
    "Korzystając z modułu numpy.poly1d zaimplementuj wielomiany Legendre’a zdefiniowane w następujący sposób: <br>\n",
    ">$$\n",
    "P_0(x) = 1 \\\\\n",
    "P_1(x) = x \\\\\n",
    "P_{k+1}(x) = \\frac{2k+1}{k+1}xP_k(x) − \\frac{k}{k+1}P_{k−1}(x) \n",
    "$$"
   ]
  },
  {
   "cell_type": "code",
   "execution_count": 120,
   "id": "arabic-brooklyn",
   "metadata": {},
   "outputs": [],
   "source": [
    "def legendre_poly(low, high):\n",
    "    p1 = np.poly1d([1])\n",
    "    p2 = np.poly1d([1,0])\n",
    "    if low <= 0 <= high:\n",
    "        yield p1\n",
    "    if low <= 1 <= high:\n",
    "        yield p2\n",
    "                   \n",
    "    for k in range(2, high+1):\n",
    "        p2, p1 = (2*k-1)/k*np.poly1d([1, 0])*p2 - (k-1)/k*p1, p2\n",
    "        yield p2"
   ]
  },
  {
   "cell_type": "code",
   "execution_count": 123,
   "id": "disturbed-alert",
   "metadata": {},
   "outputs": [
    {
     "name": "stdout",
     "output_type": "stream",
     "text": [
      " \n",
      "1\n",
      " \n",
      "1 x\n",
      "     2\n",
      "1.5 x - 0.5\n",
      "     3\n",
      "2.5 x - 1.5 x\n",
      "       4        2\n",
      "4.375 x - 3.75 x + 0.375\n",
      "       5        3\n",
      "7.875 x - 8.75 x + 1.875 x\n"
     ]
    }
   ],
   "source": [
    "for x in legendre_poly(0, 5):\n",
    "    print(x)"
   ]
  },
  {
   "cell_type": "markdown",
   "id": "flexible-julian",
   "metadata": {},
   "source": [
    "a. Zaprezentuj je na wykresie na przedziale x ∈ [−1, 1]"
   ]
  },
  {
   "cell_type": "code",
   "execution_count": 124,
   "id": "growing-ready",
   "metadata": {},
   "outputs": [],
   "source": [
    "def plot_legendre(k):\n",
    "    fig, ax = plt.subplots()\n",
    "    x_axis = np.linspace(-1, 1, 50)\n",
    "    for f in legendre_poly(0, k):\n",
    "        ax.plot(x_axis, f(x_axis))"
   ]
  },
  {
   "cell_type": "code",
   "execution_count": 125,
   "id": "thermal-bride",
   "metadata": {},
   "outputs": [
    {
     "data": {
      "image/png": "[encoded data removed]",
      "text/plain": [
       "<Figure size 432x288 with 1 Axes>"
      ]
     },
     "metadata": {
      "needs_background": "light"
     },
     "output_type": "display_data"
    }
   ],
   "source": [
    "plot_legendre(5)"
   ]
  },
  {
   "cell_type": "markdown",
   "id": "engaging-checklist",
   "metadata": {},
   "source": [
    "b. Sprawdź, że ich miejsca zerowe (wykorzystując pole numpy.poly1d.r) są odciętymi punktów Gaussa (scipy.special.roots legendre). Test wykonaj dla wielomianów od 2 do 4 stopnia."
   ]
  },
  {
   "cell_type": "code",
   "execution_count": 142,
   "id": "anonymous-adventure",
   "metadata": {},
   "outputs": [
    {
     "name": "stdout",
     "output_type": "stream",
     "text": [
      "-- x^2 --\n",
      "Legendre zeros: [-0.5773502691896258, 0.5773502691896256]\n",
      "Gauss points x: [-0.5773502691896257, 0.5773502691896257]\n",
      "-- x^3 --\n",
      "Legendre zeros: [-0.7745966692414834, 0.0, 0.7745966692414833]\n",
      "Gauss points x: [-0.7745966692414834, 0.0, 0.7745966692414834]\n",
      "-- x^4 --\n",
      "Legendre zeros: [-0.8611363115940536, -0.33998104358485653, 0.3399810435848563, 0.8611363115940531]\n",
      "Gauss points x: [-0.8611363115940526, -0.3399810435848563, 0.3399810435848563, 0.8611363115940526]\n"
     ]
    }
   ],
   "source": [
    "for i, poly in enumerate(legendre_poly(2, 4)):\n",
    "    print(f'-- x^{i+2} --')\n",
    "    print(f'Legendre zeros: {sorted(poly.r)}')\n",
    "    print(f'Gauss points x: {sorted(scipy.special.roots_legendre(i+2)[0])}')"
   ]
  },
  {
   "cell_type": "markdown",
   "id": "measured-combination",
   "metadata": {},
   "source": [
    "c. Podaj związek tego faktu z podstawowym twierdzeniem kwadratur Gaussa (z wykładu)"
   ]
  },
  {
   "cell_type": "markdown",
   "id": "romance-finance",
   "metadata": {},
   "source": [
    "TODO"
   ]
  },
  {
   "cell_type": "markdown",
   "id": "dimensional-polymer",
   "metadata": {},
   "source": [
    "## 4. Kwadratury Gaussa"
   ]
  },
  {
   "cell_type": "markdown",
   "id": "dress-joseph",
   "metadata": {},
   "source": [
    "Na podstawie parametrów kwadratury Gaussa (scipy.special.roots legendre) zaimplementuj funkcję, która dla określonej liczby punktów k oraz funkcji f policzy wartość $\\int_{-1}^{1}f(x)dx $"
   ]
  },
  {
   "cell_type": "code",
   "execution_count": 192,
   "id": "smart-salem",
   "metadata": {},
   "outputs": [],
   "source": [
    "def gauss_quadrature(f, k):\n",
    "    x_s, A_s = scipy.special.roots_legendre(k)\n",
    "    integral = 0\n",
    "    for A, x in zip(A_s, x_s):\n",
    "        integral += A*f(x)\n",
    "    return integral"
   ]
  },
  {
   "cell_type": "markdown",
   "id": "bridal-custody",
   "metadata": {},
   "source": [
    "Przetestuj jej działanie na jednomianach kolejnych stopni. Sprawdź kiedy przestaje być dokładna i podaj związek z twierdzeniem o stopniu dokładności kwadratury Gaussa."
   ]
  },
  {
   "cell_type": "code",
   "execution_count": 205,
   "id": "dental-contractor",
   "metadata": {},
   "outputs": [],
   "source": [
    "def test_gauss(k):\n",
    "    def monomial(i):\n",
    "        return lambda x: x**i\n",
    "    \n",
    "    for i in range(2*k+5):\n",
    "        gauss = gauss_quadrature(monomial(i), k)\n",
    "        actual = 1/(i+1)*monomial(i+1)(1) - 1/(i+1)*monomial(i+1)(-1)\n",
    "        print(f\"x^{i}: expected: {actual:.3f}, got: {gauss:.3f}, difference: {abs(gauss-actual):.5f}\")"
   ]
  },
  {
   "cell_type": "code",
   "execution_count": 207,
   "id": "bronze-involvement",
   "metadata": {},
   "outputs": [
    {
     "name": "stdout",
     "output_type": "stream",
     "text": [
      "x^0: expected: 2.000, got: 2.000, difference: 0.00000\n",
      "x^1: expected: 0.000, got: -0.000, difference: 0.00000\n",
      "x^2: expected: 0.667, got: 0.667, difference: 0.00000\n",
      "x^3: expected: 0.000, got: 0.000, difference: 0.00000\n",
      "x^4: expected: 0.400, got: 0.400, difference: 0.00000\n",
      "x^5: expected: 0.000, got: 0.000, difference: 0.00000\n",
      "x^6: expected: 0.286, got: 0.286, difference: 0.00000\n",
      "x^7: expected: 0.000, got: -0.000, difference: 0.00000\n",
      "x^8: expected: 0.222, got: 0.222, difference: 0.00000\n",
      "x^9: expected: 0.000, got: 0.000, difference: 0.00000\n",
      "x^10: expected: 0.182, got: 0.179, difference: 0.00293\n",
      "x^11: expected: 0.000, got: 0.000, difference: 0.00000\n",
      "x^12: expected: 0.154, got: 0.146, difference: 0.00799\n",
      "x^13: expected: 0.000, got: 0.000, difference: 0.00000\n",
      "x^14: expected: 0.133, got: 0.119, difference: 0.01387\n"
     ]
    }
   ],
   "source": [
    "test_gauss(5)"
   ]
  },
  {
   "cell_type": "markdown",
   "id": "pediatric-reason",
   "metadata": {},
   "source": [
    "## 5. Kwadratury Gaussa c.d."
   ]
  },
  {
   "cell_type": "markdown",
   "id": "bridal-atmosphere",
   "metadata": {},
   "source": [
    "Korzystając z rozwiązań z poprzedniego zadania napisz\n",
    "funkcję liczącą całkę w dowolnym przedziale $\\int_{a}^{b}f(x)dx$ dokonując normalizacji."
   ]
  },
  {
   "cell_type": "code",
   "execution_count": 208,
   "id": "competent-fabric",
   "metadata": {},
   "outputs": [],
   "source": [
    "def gauss_quadrature_interval(f, k, a, b):\n",
    "    return gauss_quadrature(\n",
    "        lambda x: f((b+a)/2 + (b-a)/2*x), k)*(b-a)/2"
   ]
  },
  {
   "cell_type": "markdown",
   "id": "dietary-airline",
   "metadata": {},
   "source": [
    "Przetestuj działanie na kilku przykładach i sprawdź z wynikami otrzymanymi analitycznie."
   ]
  },
  {
   "cell_type": "code",
   "execution_count": 209,
   "id": "abandoned-removal",
   "metadata": {},
   "outputs": [],
   "source": [
    "def test_gauss_interval(k, a, b):\n",
    "    def monomial(i):\n",
    "        return lambda x: x**i\n",
    "    \n",
    "    for i in range(2*k+5):\n",
    "        gauss = gauss_quadrature_interval(monomial(i), k, a, b)\n",
    "        actual = 1/(i+1)*monomial(i+1)(b) - 1/(i+1)*monomial(i+1)(a)\n",
    "        print(f\"x^{i}: expected: {actual:.3f}, got: {gauss:.3f}, difference: {abs(gauss-actual):.5f}\")"
   ]
  },
  {
   "cell_type": "code",
   "execution_count": 211,
   "id": "consecutive-honor",
   "metadata": {},
   "outputs": [
    {
     "name": "stdout",
     "output_type": "stream",
     "text": [
      "x^0: expected: 13.000, got: 13.000, difference: 0.00000\n",
      "x^1: expected: 45.500, got: 45.500, difference: 0.00000\n",
      "x^2: expected: 342.333, got: 342.333, difference: 0.00000\n",
      "x^3: expected: 2479.750, got: 2479.750, difference: 0.00000\n",
      "x^4: expected: 20048.600, got: 20048.600, difference: 0.00000\n",
      "x^5: expected: 166545.167, got: 166545.167, difference: 0.00000\n",
      "x^6: expected: 1428883.857, got: 1428883.857, difference: 0.00000\n",
      "x^7: expected: 12499179.875, got: 12499179.875, difference: 0.00000\n",
      "x^8: expected: 111113298.111, got: 110872833.273, difference: 240464.83839\n",
      "x^9: expected: 999994095.100, got: 992419452.691, difference: 7574642.40929\n",
      "x^10: expected: 9090925195.182, got: 8935806636.900, difference: 155118558.28144\n",
      "x^11: expected: 83333289046.583, got: 80763501434.919, difference: 2569787611.66458\n",
      "x^12: expected: 769230891871.000, got: 731716660457.657, difference: 37514231413.34314\n"
     ]
    }
   ],
   "source": [
    "test_gauss_interval(4, -3, 10)"
   ]
  },
  {
   "cell_type": "markdown",
   "id": "toxic-clearance",
   "metadata": {},
   "source": [
    "zgadza się"
   ]
  },
  {
   "cell_type": "markdown",
   "id": "seeing-denver",
   "metadata": {},
   "source": [
    "M. Hawryluk 12.04.2021"
   ]
  }
 ],
 "metadata": {
  "kernelspec": {
   "display_name": "Python 3",
   "language": "python",
   "name": "python3"
  },
  "language_info": {
   "codemirror_mode": {
    "name": "ipython",
    "version": 3
   },
   "file_extension": ".py",
   "mimetype": "text/x-python",
   "name": "python",
   "nbconvert_exporter": "python",
   "pygments_lexer": "ipython3",
   "version": "3.8.6"
  }
 },
 "nbformat": 4,
 "nbformat_minor": 5
}
