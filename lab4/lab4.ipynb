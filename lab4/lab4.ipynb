{
 "cells": [
  {
   "cell_type": "markdown",
   "id": "conventional-updating",
   "metadata": {},
   "source": [
    "# Zestaw 4. Kwadratury "
   ]
  },
  {
   "cell_type": "code",
   "execution_count": 19,
   "id": "going-motorcycle",
   "metadata": {},
   "outputs": [],
   "source": [
    "import numpy as np\n",
    "import matplotlib.pyplot as plt\n",
    "import scipy.interpolate"
   ]
  },
  {
   "cell_type": "markdown",
   "id": "processed-foster",
   "metadata": {},
   "source": [
    "## 1. Kwadratury elementarne\n",
    "Napisz funkcję, która policzy prostą, zamkniętą kwadraturę Simpsona"
   ]
  },
  {
   "cell_type": "code",
   "execution_count": 56,
   "id": "thrown-examination",
   "metadata": {},
   "outputs": [],
   "source": [
    "def simpson_quadrature(points, f):\n",
    "    h = points[1] - points[0]\n",
    "    middle = (points[0] + points[1])/2\n",
    "    return h*(f(points[0]) + 4*f(middle) + f(points[1]))/6"
   ]
  },
  {
   "cell_type": "markdown",
   "id": "presidential-strap",
   "metadata": {},
   "source": [
    "a. Przetestuj jej działanie na jednomianach kolejnych stopni, nie większych niż 5\n",
    "poprzez porównanie wyników z wartościami analitycznymi. Opisz wyniki."
   ]
  },
  {
   "cell_type": "code",
   "execution_count": 57,
   "id": "affected-prize",
   "metadata": {},
   "outputs": [],
   "source": [
    "def test_simpson():\n",
    "    def monomial(i):\n",
    "        return lambda x: x**i\n",
    "    \n",
    "    for i in range(6):\n",
    "        simpson = simpson_quadrature([0, 1], monomial(i))\n",
    "        actual = 1/(i+1)*monomial(i+1)(1)\n",
    "        print(f\"x^{i}: expected: {actual}, got: {simpson}\")"
   ]
  },
  {
   "cell_type": "code",
   "execution_count": 58,
   "id": "computational-prairie",
   "metadata": {},
   "outputs": [
    {
     "name": "stdout",
     "output_type": "stream",
     "text": [
      "x^0: expected: 1.0, got: 1.0\n",
      "x^1: expected: 0.5, got: 0.5\n",
      "x^2: expected: 0.3333333333333333, got: 0.3333333333333333\n",
      "x^3: expected: 0.25, got: 0.25\n",
      "x^4: expected: 0.2, got: 0.20833333333333334\n",
      "x^5: expected: 0.16666666666666666, got: 0.1875\n"
     ]
    }
   ],
   "source": [
    "test_simpson()"
   ]
  },
  {
   "cell_type": "markdown",
   "id": "rotary-cattle",
   "metadata": {},
   "source": [
    "b. Przetestuj jej działanie na funkcji $f(x) = e^{−3x} sin(4x)$ na przedziale x ∈ [0, 5]\n",
    "poprzez wyliczenie jej wartości na całym przedziale, a następnie porównanie z sumą\n",
    "metody na dwóch podprzedziałach [0, 1] i [1, 5]. Czemu wyniki się różnią?"
   ]
  },
  {
   "cell_type": "code",
   "execution_count": 59,
   "id": "fiscal-space",
   "metadata": {},
   "outputs": [
    {
     "name": "stdout",
     "output_type": "stream",
     "text": [
      "[0,        5] -> -0.0010027325181523326\n",
      "[0,1] + [1,5] -> 0.10368557622593555\n"
     ]
    }
   ],
   "source": [
    "f = lambda x: np.e**(-3*x)*np.sin(4*x)\n",
    "print(\"[0,        5] ->\", simpson_quadrature([0, 5], f))\n",
    "print(\"[0,1] + [1,5] ->\", simpson_quadrature([0, 1], f) + simpson_quadrature([1, 5], f))"
   ]
  },
  {
   "cell_type": "markdown",
   "id": "environmental-battery",
   "metadata": {},
   "source": [
    "c. Zaprezentuj na wykresie funkcję f oraz kwadratowy wielomian interpolujący ją w\n",
    "węzłach będących końcami przedziału i jego środkiem. Oblicz kwadraturę wyliczonego w ten sposób wielomianu i porównaj wyniki. W jaki sposób ten wielomian\n",
    "jest powiązany z metodą Simpsona?"
   ]
  },
  {
   "cell_type": "code",
   "execution_count": 60,
   "id": "choice-bookmark",
   "metadata": {},
   "outputs": [
    {
     "data": {
      "image/png": "[encoded data removed]",
      "text/plain": [
       "<Figure size 720x360 with 2 Axes>"
      ]
     },
     "metadata": {
      "needs_background": "light"
     },
     "output_type": "display_data"
    }
   ],
   "source": [
    "fig, ax = plt.subplots(1,2, figsize=(10,5))\n",
    "\n",
    "x_axis = np.linspace(0, 5, 100)\n",
    "ax[0].plot(x_axis, f(x_axis), color='maroon')\n",
    "ax[1].plot(x_axis, f(x_axis), color='maroon')\n",
    "\n",
    "interpolation_0_5 = scipy.interpolate.interp1d([0, 2.5, 5], list(map(f, [0, 2.5, 5])), kind='quadratic')\n",
    "ax[0].plot(x_axis, interpolation_0_5(x_axis), color=\"pink\")\n",
    "\n",
    "x_axis_0_1 = np.linspace(0, 1, 100)\n",
    "interpolation_0_1 = scipy.interpolate.interp1d([0, 0.5, 1], list(map(f, [0, 0.5, 1])), kind='quadratic')\n",
    "ax[1].plot(x_axis_0_1, interpolation_0_1(x_axis_0_1), color=\"orange\")\n",
    "\n",
    "x_axis_1_5 = np.linspace(1, 5, 100)\n",
    "interpolation_1_5 = scipy.interpolate.interp1d([1, 3, 5], list(map(f, [1, 3, 5])), kind='quadratic')\n",
    "ax[1].plot(x_axis_1_5, interpolation_1_5(x_axis_1_5), color=\"yellow\")\n",
    "\n",
    "plt.show()"
   ]
  },
  {
   "cell_type": "markdown",
   "id": "fourth-fitness",
   "metadata": {},
   "source": [
    "## 2. Kwadratury adaptacyjne\n",
    "Zaimplementuj adaptacyjną kwadraturę Simpsona. Dla kilku różnych dokładności ε wykonaj poniższe polecenia."
   ]
  },
  {
   "cell_type": "markdown",
   "id": "ranging-danger",
   "metadata": {},
   "source": [
    "a. Przetestuj ją na funkcji f z zadania 1.b i porównaj wyniki z elementarną metodą\n",
    "Simpsona"
   ]
  },
  {
   "cell_type": "markdown",
   "id": "comic-velvet",
   "metadata": {},
   "source": [
    "b. Zaprezentuj na wykresie funkcję f oraz punkty podziału wyliczone przez metodę\n",
    "adaptacyjną. Opisz wyniki."
   ]
  },
  {
   "cell_type": "markdown",
   "id": "accredited-fight",
   "metadata": {},
   "source": [
    "## 3. Wielomiany ortogonalne\n",
    "Korzystając z modułu numpy.poly1d zaimplementuj wielomiany Legendre’a zdefiniowane w następujący sposób: <br>\n",
    "P0(x) = 1\n",
    "P1(x) = x\n",
    "Pk+1(x) = 2k + 1/k + 1*x*Pk(x) − k/k + 1*Pk−1(x)"
   ]
  },
  {
   "cell_type": "code",
   "execution_count": 88,
   "id": "arabic-brooklyn",
   "metadata": {},
   "outputs": [],
   "source": [
    "def legendre_poly(k):\n",
    "    p1 = np.poly1d([1])\n",
    "    p2 = np.poly1d([1,0])\n",
    "    yield p1\n",
    "    yield p2\n",
    "    for k in range(2, k+1):\n",
    "        p2, p1 = (2*k-1)/k*np.poly1d([1,0])*p2 - (k-1)/k*p1, p2\n",
    "        yield p2"
   ]
  },
  {
   "cell_type": "code",
   "execution_count": 89,
   "id": "disturbed-alert",
   "metadata": {},
   "outputs": [
    {
     "name": "stdout",
     "output_type": "stream",
     "text": [
      " \n",
      "1\n",
      " \n",
      "1 x\n",
      "     2\n",
      "1.5 x - 0.5\n",
      "     3\n",
      "2.5 x - 1.5 x\n",
      "       4        2\n",
      "4.375 x - 3.75 x + 0.375\n",
      "       5        3\n",
      "7.875 x - 8.75 x + 1.875 x\n"
     ]
    }
   ],
   "source": [
    "for x in legendre_poly(5):\n",
    "    print(x)"
   ]
  },
  {
   "cell_type": "markdown",
   "id": "flexible-julian",
   "metadata": {},
   "source": [
    "a. Zaprezentuj je na wykresie na przedziale x ∈ [−1, 1]"
   ]
  },
  {
   "cell_type": "code",
   "execution_count": 92,
   "id": "growing-ready",
   "metadata": {},
   "outputs": [],
   "source": [
    "def plot_legendre(k):\n",
    "    fig, ax = plt.subplots()\n",
    "    x_axis = np.linspace(-1, 1, 50)\n",
    "    for f in legendre_poly(k):\n",
    "        ax.plot(x_axis, f(x_axis))"
   ]
  },
  {
   "cell_type": "code",
   "execution_count": 93,
   "id": "thermal-bride",
   "metadata": {},
   "outputs": [
    {
     "data": {
      "image/png": "[encoded data removed]",
      "text/plain": [
       "<Figure size 432x288 with 1 Axes>"
      ]
     },
     "metadata": {
      "needs_background": "light"
     },
     "output_type": "display_data"
    }
   ],
   "source": [
    "plot_legendre(5)"
   ]
  },
  {
   "cell_type": "markdown",
   "id": "engaging-checklist",
   "metadata": {},
   "source": [
    "b. Sprawdź, że ich miejsca zerowe (wykorzystując pole numpy.poly1d.r) są odciętymi punktów Gaussa (scipy.special.roots legendre). Test wykonaj dla wielomianów od 2 do 4 stopnia."
   ]
  },
  {
   "cell_type": "code",
   "execution_count": null,
   "id": "anonymous-adventure",
   "metadata": {},
   "outputs": [],
   "source": []
  },
  {
   "cell_type": "markdown",
   "id": "measured-combination",
   "metadata": {},
   "source": [
    "c. Podaj związek tego faktu z podstawowym twierdzeniem kwadratur Gaussa (z wykładu)"
   ]
  },
  {
   "cell_type": "code",
   "execution_count": null,
   "id": "coordinate-stand",
   "metadata": {},
   "outputs": [],
   "source": []
  },
  {
   "cell_type": "markdown",
   "id": "dimensional-polymer",
   "metadata": {},
   "source": [
    "## 4."
   ]
  },
  {
   "cell_type": "code",
   "execution_count": 94,
   "id": "smart-salem",
   "metadata": {},
   "outputs": [],
   "source": [
    "# ze wzoru ze screena"
   ]
  },
  {
   "cell_type": "markdown",
   "id": "pediatric-reason",
   "metadata": {},
   "source": [
    "## 5."
   ]
  },
  {
   "cell_type": "code",
   "execution_count": null,
   "id": "greenhouse-bruce",
   "metadata": {},
   "outputs": [],
   "source": []
  }
 ],
 "metadata": {
  "kernelspec": {
   "display_name": "Python 3",
   "language": "python",
   "name": "python3"
  },
  "language_info": {
   "codemirror_mode": {
    "name": "ipython",
    "version": 3
   },
   "file_extension": ".py",
   "mimetype": "text/x-python",
   "name": "python",
   "nbconvert_exporter": "python",
   "pygments_lexer": "ipython3",
   "version": "3.8.6"
  }
 },
 "nbformat": 4,
 "nbformat_minor": 5
}
