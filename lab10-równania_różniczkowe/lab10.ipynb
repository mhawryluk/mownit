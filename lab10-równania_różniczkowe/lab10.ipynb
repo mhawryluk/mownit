{
 "cells": [
  {
   "cell_type": "markdown",
   "id": "advisory-birth",
   "metadata": {},
   "source": [
    "# Zestaw 10. Równania różniczkowe zwyczajne"
   ]
  },
  {
   "cell_type": "code",
   "execution_count": 72,
   "id": "cutting-formula",
   "metadata": {},
   "outputs": [],
   "source": [
    "import numpy as np\n",
    "import matplotlib.pyplot as plt\n",
    "import scipy.integrate\n",
    "from math import tan"
   ]
  },
  {
   "cell_type": "markdown",
   "id": "accurate-history",
   "metadata": {},
   "source": [
    "## 1. Metoda Eulera i Rungego-Kutty"
   ]
  },
  {
   "cell_type": "markdown",
   "id": "uniform-edition",
   "metadata": {},
   "source": [
    "Zaimplementuj dwie metody rozwiazywania równań różniczkowych zwyczajnych:\n",
    "- Eulera"
   ]
  },
  {
   "cell_type": "code",
   "execution_count": 176,
   "id": "ecological-maker",
   "metadata": {},
   "outputs": [],
   "source": [
    "def euler(f, u0, t0, x, step):\n",
    "    h = (x-t0)/step\n",
    "    u = u0\n",
    "    \n",
    "    t = t0\n",
    "    \n",
    "    for _ in range(step):\n",
    "        u += h*f(t, u)\n",
    "        t += h\n",
    "    \n",
    "    return u"
   ]
  },
  {
   "cell_type": "markdown",
   "id": "assumed-gauge",
   "metadata": {},
   "source": [
    "- Rungego-Kutty rzędu 4"
   ]
  },
  {
   "cell_type": "code",
   "execution_count": 177,
   "id": "rolled-virus",
   "metadata": {},
   "outputs": [],
   "source": [
    "def runge_kutta(f, u0, t0, x, step):\n",
    "    h = (x-t0)/step\n",
    "    u = u0\n",
    "    \n",
    "    t = t0\n",
    "    for i in range(step):\n",
    "        k1 = h*f(t, u)\n",
    "        k2 = h*f(t+h/2, u+k1/2)\n",
    "        k3 = h*f(t+h/2, u+k2/2)\n",
    "        k4 = h*f(t+h, u+k3)\n",
    "        u += (k1 + 2*k2 + 2*k3 + k4)/6\n",
    "        t += h\n",
    "    \n",
    "    return u"
   ]
  },
  {
   "cell_type": "markdown",
   "id": "opposite-anthropology",
   "metadata": {},
   "source": [
    "#### test"
   ]
  },
  {
   "cell_type": "markdown",
   "id": "statewide-questionnaire",
   "metadata": {},
   "source": [
    "* x' = x"
   ]
  },
  {
   "cell_type": "code",
   "execution_count": 178,
   "id": "incident-pleasure",
   "metadata": {},
   "outputs": [],
   "source": [
    "f = lambda t, x:t"
   ]
  },
  {
   "cell_type": "code",
   "execution_count": 179,
   "id": "determined-arrest",
   "metadata": {},
   "outputs": [
    {
     "data": {
      "text/plain": [
       "0.4995000000000005"
      ]
     },
     "execution_count": 179,
     "metadata": {},
     "output_type": "execute_result"
    }
   ],
   "source": [
    "euler(f, 0, 0, 1, 1000)"
   ]
  },
  {
   "cell_type": "code",
   "execution_count": 180,
   "id": "essential-conviction",
   "metadata": {},
   "outputs": [
    {
     "data": {
      "text/plain": [
       "0.5000000000000002"
      ]
     },
     "execution_count": 180,
     "metadata": {},
     "output_type": "execute_result"
    }
   ],
   "source": [
    "runge_kutta(f, 0, 0, 1, 1000)"
   ]
  },
  {
   "cell_type": "code",
   "execution_count": 181,
   "id": "golden-habitat",
   "metadata": {},
   "outputs": [
    {
     "data": {
      "text/plain": [
       "0.5000000000000001"
      ]
     },
     "execution_count": 181,
     "metadata": {},
     "output_type": "execute_result"
    }
   ],
   "source": [
    "scipy.integrate.solve_ivp(f, (0, 1), [0])['y'][0, -1]"
   ]
  },
  {
   "cell_type": "markdown",
   "id": "consecutive-compiler",
   "metadata": {},
   "source": [
    "* x' = "
   ]
  },
  {
   "cell_type": "code",
   "execution_count": 182,
   "id": "thrown-lithuania",
   "metadata": {},
   "outputs": [],
   "source": [
    "f = lambda t, x: 2 + (x-t-1)**2"
   ]
  },
  {
   "cell_type": "code",
   "execution_count": 183,
   "id": "pointed-deputy",
   "metadata": {},
   "outputs": [],
   "source": [
    "u = lambda t: 1 + t + tan(t-1)"
   ]
  },
  {
   "cell_type": "markdown",
   "id": "atmospheric-yemen",
   "metadata": {},
   "source": [
    "porównać z wynikiem analitycznem z Kincaida"
   ]
  },
  {
   "cell_type": "code",
   "execution_count": 184,
   "id": "established-rebecca",
   "metadata": {},
   "outputs": [
    {
     "data": {
      "text/plain": [
       "3.1928062559481556"
      ]
     },
     "execution_count": 184,
     "metadata": {},
     "output_type": "execute_result"
    }
   ],
   "source": [
    "euler(f, 2, 1, 1.5625, 1000)"
   ]
  },
  {
   "cell_type": "code",
   "execution_count": 185,
   "id": "confident-battle",
   "metadata": {},
   "outputs": [
    {
     "data": {
      "text/plain": [
       "3.1929376738362407"
      ]
     },
     "execution_count": 185,
     "metadata": {},
     "output_type": "execute_result"
    }
   ],
   "source": [
    "runge_kutta(f, 2, 1, 1.5625, 100)"
   ]
  },
  {
   "cell_type": "code",
   "execution_count": 186,
   "id": "veterinary-pittsburgh",
   "metadata": {},
   "outputs": [
    {
     "data": {
      "text/plain": [
       "3.1929376738358846"
      ]
     },
     "execution_count": 186,
     "metadata": {},
     "output_type": "execute_result"
    }
   ],
   "source": [
    "u(1.5625)"
   ]
  },
  {
   "cell_type": "code",
   "execution_count": 187,
   "id": "excessive-joining",
   "metadata": {},
   "outputs": [
    {
     "data": {
      "text/plain": [
       "3.1929385148183353"
      ]
     },
     "execution_count": 187,
     "metadata": {},
     "output_type": "execute_result"
    }
   ],
   "source": [
    "scipy.integrate.solve_ivp(f, (1, 1.5625), [2])['y'][0, -1]"
   ]
  },
  {
   "cell_type": "markdown",
   "id": "egyptian-buffer",
   "metadata": {},
   "source": [
    "## 2. Wahadło matematyczne"
   ]
  },
  {
   "cell_type": "code",
   "execution_count": null,
   "id": "improved-action",
   "metadata": {},
   "outputs": [],
   "source": []
  },
  {
   "cell_type": "markdown",
   "id": "present-arthritis",
   "metadata": {},
   "source": [
    "## 3. Wahadło podwójne"
   ]
  },
  {
   "cell_type": "code",
   "execution_count": null,
   "id": "median-transcript",
   "metadata": {},
   "outputs": [],
   "source": []
  },
  {
   "cell_type": "markdown",
   "id": "professional-timer",
   "metadata": {},
   "source": [
    "## Wnioski"
   ]
  },
  {
   "cell_type": "markdown",
   "id": "immediate-portal",
   "metadata": {},
   "source": [
    "- \n",
    "- "
   ]
  }
 ],
 "metadata": {
  "kernelspec": {
   "display_name": "Python 3",
   "language": "python",
   "name": "python3"
  },
  "language_info": {
   "codemirror_mode": {
    "name": "ipython",
    "version": 3
   },
   "file_extension": ".py",
   "mimetype": "text/x-python",
   "name": "python",
   "nbconvert_exporter": "python",
   "pygments_lexer": "ipython3",
   "version": "3.8.6"
  }
 },
 "nbformat": 4,
 "nbformat_minor": 5
}
