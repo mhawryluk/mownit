{
 "cells": [
  {
   "cell_type": "markdown",
   "id": "medium-hampton",
   "metadata": {},
   "source": [
    "# Zestaw 5. Równania nieliniowe"
   ]
  },
  {
   "cell_type": "code",
   "execution_count": 56,
   "id": "remarkable-pizza",
   "metadata": {},
   "outputs": [],
   "source": [
    "import numpy as np\n",
    "import matplotlib.pyplot as plt\n",
    "from mpmath import *\n",
    "from colorsys import rgb_to_hls, hls_to_rgb"
   ]
  },
  {
   "cell_type": "code",
   "execution_count": 35,
   "id": "competent-conjunction",
   "metadata": {},
   "outputs": [
    {
     "name": "stdout",
     "output_type": "stream",
     "text": [
      "Mpmath settings:\n",
      "  mp.prec = 53                [default: 53]\n",
      "  mp.dps = 15                 [default: 15]\n",
      "  mp.trap_complex = False     [default: False]\n"
     ]
    }
   ],
   "source": [
    "print(mp)"
   ]
  },
  {
   "cell_type": "markdown",
   "id": "protective-simple",
   "metadata": {},
   "source": [
    "### Funkcje do testów"
   ]
  },
  {
   "cell_type": "code",
   "execution_count": 91,
   "id": "hourly-alexandria",
   "metadata": {},
   "outputs": [],
   "source": [
    "f1 = lambda x: cos(x)*cosh(x) - 1\n",
    "f1_d = [1.5*pi, 2*pi]\n",
    "\n",
    "f2 = lambda x: 1/x - tan(x)\n",
    "f2_d = [0, pi/2]\n",
    "\n",
    "f3 = lambda x: 2**(-x) + e^x + 2*cos(x) - 6\n",
    "f3_d = [1, 3]"
   ]
  },
  {
   "cell_type": "markdown",
   "id": "palestinian-assumption",
   "metadata": {},
   "source": [
    "## 1. Metoda bisekcji"
   ]
  },
  {
   "cell_type": "markdown",
   "id": "tropical-death",
   "metadata": {},
   "source": [
    "Napisz funkcję realizującą metodę bisekcji dla danej funkcji f w oparciu o arytmetykę o\n",
    "zmiennej precyzji (mpmath.mpf). Funkcja przyjmuje następujące argumenty:\n",
    "* Minimalną precyzję obliczeń (liczba cyfr znaczących)\n",
    "* Krańce przedziału\n",
    "* Błąd bezwzględny obliczeń\n",
    "\n",
    "Funkcja ma zwracać wyznaczone miejsce zerowe, wyliczoną wartość w miejscu zerowym\n",
    "oraz liczbę iteracji potrzebną do uzyskania określonej dokładności."
   ]
  },
  {
   "cell_type": "code",
   "execution_count": 52,
   "id": "velvet-concentrate",
   "metadata": {},
   "outputs": [],
   "source": [
    "def bisection(f, precission, interval, error):\n",
    "    with workdps(precission):\n",
    "        a, b = map(mpf, interval)\n",
    "        range_len = b - a\n",
    "        i = 0\n",
    "\n",
    "        while range_len/mpf(2**i) > error:\n",
    "            i += 1\n",
    "            c = (a+b)/2\n",
    "\n",
    "            if f(c)*f(a) < 0:\n",
    "                b = c\n",
    "            else:\n",
    "                a = c\n",
    "        \n",
    "        return c, f(c), i"
   ]
  },
  {
   "cell_type": "markdown",
   "id": "surface-applicant",
   "metadata": {},
   "source": [
    "a. Przetestuj działanie metody dla funkcji podanych na początku instrukcji dla dokładności rzędu $10^{−7}$ , $10^{−15}$ oraz $10^{−33}$"
   ]
  },
  {
   "cell_type": "code",
   "execution_count": 53,
   "id": "posted-renaissance",
   "metadata": {},
   "outputs": [
    {
     "data": {
      "text/plain": [
       "(mpf('4.7300407141447067'), mpf('-1.7704442143440247e-6'), 24)"
      ]
     },
     "execution_count": 53,
     "metadata": {},
     "output_type": "execute_result"
    }
   ],
   "source": [
    "bisection(f1, 8, f1_d, 1e-7)"
   ]
  },
  {
   "cell_type": "code",
   "execution_count": 54,
   "id": "confirmed-equilibrium",
   "metadata": {},
   "outputs": [
    {
     "data": {
      "text/plain": [
       "(mpf('4.730040744862704'), mpf('-2.4980018054066022e-15'), 51)"
      ]
     },
     "execution_count": 54,
     "metadata": {},
     "output_type": "execute_result"
    }
   ],
   "source": [
    "bisection(f1, 16, f1_d, 1e-15)"
   ]
  },
  {
   "cell_type": "code",
   "execution_count": 55,
   "id": "frank-desire",
   "metadata": {},
   "outputs": [
    {
     "data": {
      "text/plain": [
       "(mpf('4.730040744862704'), mpf('6.7889030539650064e-33'), 111)"
      ]
     },
     "execution_count": 55,
     "metadata": {},
     "output_type": "execute_result"
    }
   ],
   "source": [
    "bisection(f1, 34, f1_d, 1e-33)"
   ]
  },
  {
   "cell_type": "markdown",
   "id": "innocent-conflict",
   "metadata": {},
   "source": [
    "b. Narysuj wykres funkcji i dla wybranej dokładności zaznacz kolejne przybliżenia miejsca zerowego. Nasycenie koloru zaznaczonych punktów powinno rosnąć wraz z numerem iteracji. Zinterpretuj wyniki."
   ]
  },
  {
   "cell_type": "code",
   "execution_count": 85,
   "id": "historical-motion",
   "metadata": {},
   "outputs": [],
   "source": [
    "def scale_saturation(r, g, b, scale):\n",
    "    h, l, s = rgb_to_hls(r, g, b)\n",
    "    return hls_to_rgb(h, l, min(1, s*scale))"
   ]
  },
  {
   "cell_type": "code",
   "execution_count": 105,
   "id": "breeding-generic",
   "metadata": {},
   "outputs": [],
   "source": [
    "def plot_bisection(f, precission, interval, error):\n",
    "    color = scale_saturation(0., 0., 1., 0.01)\n",
    "    x_axis = np.linspace(float(interval[0]), float(interval[1]))\n",
    "    plt.plot(list(map(float, x_axis)), list(map(float, map(f, x_axis))), color=\"grey\")\n",
    "    \n",
    "    with workdps(precission):\n",
    "        a, b = map(mpf, interval)\n",
    "        range_len = b - a\n",
    "        i = 0\n",
    "\n",
    "        while range_len/mpf(2**i) > error:\n",
    "            i += 1\n",
    "            c = (a+b)/2\n",
    "            plt.scatter(float(c), float(f(c)), color=scale_saturation(*color, 1.05))\n",
    "\n",
    "            if f(c)*f(a) < 0:\n",
    "                b = c\n",
    "            else:\n",
    "                a = c\n",
    "        \n",
    "        plt.show()"
   ]
  },
  {
   "cell_type": "code",
   "execution_count": 106,
   "id": "valid-distinction",
   "metadata": {},
   "outputs": [
    {
     "data": {
      "image/png": "[encoded data removed]",
      "text/plain": [
       "<Figure size 432x288 with 1 Axes>"
      ]
     },
     "metadata": {
      "needs_background": "light"
     },
     "output_type": "display_data"
    }
   ],
   "source": [
    "plot_bisection(f1, 7, f1_d, 1e-7)"
   ]
  },
  {
   "cell_type": "code",
   "execution_count": 62,
   "id": "ultimate-balloon",
   "metadata": {},
   "outputs": [],
   "source": [
    "# ograniczyć funkcję 2"
   ]
  },
  {
   "cell_type": "markdown",
   "id": "registered-moment",
   "metadata": {},
   "source": [
    "c. Narysuj wykres zależności liczby potrzebnych iteracji od bezwzględnej dokładności."
   ]
  },
  {
   "cell_type": "code",
   "execution_count": null,
   "id": "hydraulic-hospital",
   "metadata": {},
   "outputs": [],
   "source": []
  },
  {
   "cell_type": "markdown",
   "id": "clean-learning",
   "metadata": {},
   "source": [
    "d. Sprawdź czy spełnia ona równanie $n = \\ceiling log b−a ε log 2$\n",
    "gdzie n to liczba iteracji, ε bezwzględna dokładność, a a, b to granice przedziałów, poprzez porównanie na wykresie."
   ]
  },
  {
   "cell_type": "markdown",
   "id": "neural-ethiopia",
   "metadata": {},
   "source": [
    "## 2. Metoda Newtona\n",
    "Napisz funkcję realizującą metodę Newtona w oparciu o arytmetykę o zmiennej precyzji\n",
    "(mpmath.mpf). Funkcja ma wykorzystywać dwa kryteria stopu:\n",
    "* maksymalną liczbę iteracji\n",
    "* moduł różnicy kolejnych przybliżeń mniejszy od danej wartości ε\n",
    "\n",
    "Oprócz przybliżonej wartości pierwiastka funkcja ma zwrócić liczbę iteracji potrzebną do uzyskania określonej dokładności ε. Przetestuj działanie funkcji analogicznie do punktów a-c z poprzedniego zadania. Czy wykres zbieżności jest inny w przypadku metody bisekcji? Zinterpretuj wyniki."
   ]
  },
  {
   "cell_type": "code",
   "execution_count": null,
   "id": "scenic-clause",
   "metadata": {},
   "outputs": [],
   "source": []
  },
  {
   "cell_type": "markdown",
   "id": "minute-resolution",
   "metadata": {},
   "source": [
    "M. Hawryluk 15.04.2021"
   ]
  }
 ],
 "metadata": {
  "kernelspec": {
   "display_name": "Python 3",
   "language": "python",
   "name": "python3"
  },
  "language_info": {
   "codemirror_mode": {
    "name": "ipython",
    "version": 3
   },
   "file_extension": ".py",
   "mimetype": "text/x-python",
   "name": "python",
   "nbconvert_exporter": "python",
   "pygments_lexer": "ipython3",
   "version": "3.8.6"
  }
 },
 "nbformat": 4,
 "nbformat_minor": 5
}
