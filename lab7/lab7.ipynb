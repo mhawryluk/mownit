{
 "cells": [
  {
   "cell_type": "markdown",
   "id": "conceptual-martin",
   "metadata": {},
   "source": [
    "# Zestaw 7. Iteracyjne rozwiązywanie układów liniowych"
   ]
  },
  {
   "cell_type": "code",
   "execution_count": 8,
   "id": "attached-integral",
   "metadata": {},
   "outputs": [],
   "source": [
    "import numpy as np\n",
    "from numpy.linalg import inv\n",
    "import matplotlib.pyplot as plt\n",
    "import networkx as nx"
   ]
  },
  {
   "cell_type": "markdown",
   "id": "hungarian-insulation",
   "metadata": {},
   "source": [
    "## 1. Metody stacjonarne"
   ]
  },
  {
   "cell_type": "markdown",
   "id": "viral-framework",
   "metadata": {},
   "source": [
    "<i>Zaimplementuj metody Jacobiego, Gaussa-Seidla i SOR. Użyj ich do rozwiązania poniższych układów równań z dokładnością do 4 miejsc znaczących. Zaprezentuj na wykresie zależność błędu od iteracji. Opisz i zinterpretuj wyniki. </i>"
   ]
  },
  {
   "cell_type": "markdown",
   "id": "international-meter",
   "metadata": {},
   "source": [
    "#### metoda Jacobiego"
   ]
  },
  {
   "cell_type": "code",
   "execution_count": 69,
   "id": "northern-start",
   "metadata": {},
   "outputs": [],
   "source": [
    "def jacobi(A, B, x0, exact):\n",
    "    n = A.shape[0]\n",
    "    x = x0\n",
    "    D = np.diag(np.diag(A))\n",
    "    M = np.eye(n) - inv(D) @ A\n",
    "    W = inv(D) @ B\n",
    "    \n",
    "    i = 0\n",
    "    \n",
    "    while not np.allclose(x, exact, atol=1e-4):\n",
    "        i += 1\n",
    "        x  = M @ x + W\n",
    "        \n",
    "    return i, x"
   ]
  },
  {
   "cell_type": "markdown",
   "id": "undefined-operator",
   "metadata": {},
   "source": [
    "#### metoda Gaussa-Seidla"
   ]
  },
  {
   "cell_type": "code",
   "execution_count": 70,
   "id": "compound-attendance",
   "metadata": {},
   "outputs": [],
   "source": [
    "def gauss_seidl(A, B, x0, exact):\n",
    "    n = A.shape[0]\n",
    "    x = x0\n",
    "    L = np.tril(A)\n",
    "    U = np.triu(A) - np.diag(np.diag(A))\n",
    "    M = -inv(L) @ U\n",
    "    W = inv(L) @ B\n",
    "    \n",
    "    i = 0\n",
    "    \n",
    "    while not np.allclose(x, exact, atol=1e-4):\n",
    "        i += 1\n",
    "        x  = M @ x + W\n",
    "        \n",
    "        if i > 1000:\n",
    "            break\n",
    "        \n",
    "    return i, x"
   ]
  },
  {
   "cell_type": "markdown",
   "id": "timely-huntington",
   "metadata": {},
   "source": [
    "#### metoda SOR"
   ]
  },
  {
   "cell_type": "code",
   "execution_count": 71,
   "id": "attached-expense",
   "metadata": {},
   "outputs": [],
   "source": [
    "def sor(A, B, x0, exact, omega):\n",
    "    n = A.shape[0]\n",
    "    x = x0\n",
    "    D = np.diag(np.diag(A))\n",
    "    L = np.tril(A) - D\n",
    "    U = np.triu(A) - D\n",
    "    M = inv(D + omega*L) @ (D - omega*(D + U))\n",
    "    W = omega * inv(D + omega*L) @ B\n",
    "    \n",
    "    i = 0\n",
    "    \n",
    "    while not np.allclose(x, exact, atol=1e-4):\n",
    "        i += 1\n",
    "        x  = M @ x + W\n",
    "        \n",
    "        if i > 1000:\n",
    "            break\n",
    "        \n",
    "    return i, x"
   ]
  },
  {
   "cell_type": "markdown",
   "id": "accurate-agriculture",
   "metadata": {},
   "source": [
    "#### testy"
   ]
  },
  {
   "cell_type": "code",
   "execution_count": 72,
   "id": "killing-privacy",
   "metadata": {},
   "outputs": [],
   "source": [
    "A1 = np.array([[7, 1, -1, 2], [1, 8, 0, -2],[-1, 0, 4, -1], [2, -2, -1, 6]])\n",
    "B1 = np.array([3, -5, 4, -3])\n",
    "x01 = np.zeros(4)\n",
    "omega1 = 1.1\n",
    "exact1 = np.array([1, -1, 1, -1])"
   ]
  },
  {
   "cell_type": "code",
   "execution_count": 73,
   "id": "likely-throw",
   "metadata": {},
   "outputs": [],
   "source": [
    "A2 = np.array([[7, 3, -1, 2], [3, 8, 1, -4],[-1, 1, 4, -1], [2, -4, -1, 6]])\n",
    "B2 = np.array([-1, 0, -3, 1])\n",
    "x02 = np.zeros(4)\n",
    "omega2 = 1.4\n",
    "exact2 = np.array([-1, 1, -1, 1])"
   ]
  },
  {
   "cell_type": "code",
   "execution_count": 76,
   "id": "preceding-oklahoma",
   "metadata": {},
   "outputs": [
    {
     "name": "stdout",
     "output_type": "stream",
     "text": [
      "     jacobi:  14 [ 0.99995716 -0.99995716  1.00000235 -0.99992703]\n",
      "gauss seidl:  7 [ 0.99989203 -0.99991255  1.00004696 -0.99992703]\n",
      "        sor:  5 [ 1.00002942 -1.00002682  0.99996387 -1.00000953]\n"
     ]
    }
   ],
   "source": [
    "print(\"     jacobi: \", *jacobi(A1, B1, x01, exact1))\n",
    "print(\"gauss seidl: \", *gauss_seidl(A1, B1, x01, exact1))\n",
    "print(\"        sor: \", *sor(A1, B1, x01, exact1, omega1))"
   ]
  },
  {
   "cell_type": "markdown",
   "id": "running-score",
   "metadata": {},
   "source": [
    "## 2. Analiza obwodu elektrycznego"
   ]
  },
  {
   "cell_type": "markdown",
   "id": "coastal-atlanta",
   "metadata": {},
   "source": [
    "<i> Wykorzystaj dowolną z powyższych metod do wyliczenia natężenia prądu w każdej z części obwodu elektrycznego. </i>"
   ]
  },
  {
   "cell_type": "markdown",
   "id": "still-boards",
   "metadata": {},
   "source": []
  },
  {
   "cell_type": "markdown",
   "id": "stunning-netscape",
   "metadata": {},
   "source": [
    "## Wnioski"
   ]
  },
  {
   "cell_type": "markdown",
   "id": "smart-sympathy",
   "metadata": {},
   "source": [
    " - \n",
    " - \n",
    " -"
   ]
  },
  {
   "cell_type": "markdown",
   "id": "adult-notification",
   "metadata": {},
   "source": [
    "M. Hawryluk 29.04.2021"
   ]
  }
 ],
 "metadata": {
  "kernelspec": {
   "display_name": "Python 3",
   "language": "python",
   "name": "python3"
  },
  "language_info": {
   "codemirror_mode": {
    "name": "ipython",
    "version": 3
   },
   "file_extension": ".py",
   "mimetype": "text/x-python",
   "name": "python",
   "nbconvert_exporter": "python",
   "pygments_lexer": "ipython3",
   "version": "3.8.6"
  }
 },
 "nbformat": 4,
 "nbformat_minor": 5
}
