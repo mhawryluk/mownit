{
 "cells": [
  {
   "cell_type": "markdown",
   "id": "conceptual-martin",
   "metadata": {},
   "source": [
    "# Zestaw 7. Iteracyjne rozwiązywanie układów liniowych"
   ]
  },
  {
   "cell_type": "code",
   "execution_count": 1,
   "id": "attached-integral",
   "metadata": {},
   "outputs": [],
   "source": [
    "import numpy as np\n",
    "from numpy.linalg import inv\n",
    "import matplotlib.pyplot as plt\n",
    "import networkx as nx"
   ]
  },
  {
   "cell_type": "markdown",
   "id": "hungarian-insulation",
   "metadata": {},
   "source": [
    "## 1. Metody stacjonarne"
   ]
  },
  {
   "cell_type": "markdown",
   "id": "viral-framework",
   "metadata": {},
   "source": [
    "<i>Zaimplementuj metody Jacobiego, Gaussa-Seidla i SOR. Użyj ich do rozwiązania poniższych układów równań z dokładnością do 4 miejsc znaczących.</i>"
   ]
  },
  {
   "cell_type": "markdown",
   "id": "exempt-cologne",
   "metadata": {},
   "source": [
    "Przywołane metody iteracyjne mają szansę zadziałać tylko dla macierzy, której wszystkie elementy na przekątnej są niezerowe. Każdą macierz główną układu, który da się rozwiązać, jesteśmy w stanie doprowadzić do takiej postaci poprzez zamianę kolejności wierszy/kolumn."
   ]
  },
  {
   "cell_type": "code",
   "execution_count": 109,
   "id": "moderate-heater",
   "metadata": {},
   "outputs": [],
   "source": [
    "def non_zero_diagonal(A, B):\n",
    "    n = A.shape[0]\n",
    "    i = 0\n",
    "    while not np.all(np.diag(A) != 0) and i < A.shape[0]:\n",
    "        zeros_columns = {}\n",
    "        for i in range(n):\n",
    "            if A[i][i] != 0: continue\n",
    "            zeros_count = 0\n",
    "            for j in range(n):\n",
    "                if A[i][j] == 0:\n",
    "                    zeros_count += 1\n",
    "            \n",
    "            zeros_columns[i] = zeros_count\n",
    "        \n",
    "        max_column = max(zeros_columns, key = zeros_columns.get)\n",
    "        max_element_row = np.where(A[:, max_column] == max(A[:, max_column]))[0][0]\n",
    "\n",
    "        A[[max_element_row, max_column]] = A[[max_column, max_element_row]]\n",
    "        B[[max_element_row, max_column]] = B[[max_column, max_element_row]]\n",
    "        i += 1\n",
    "            \n",
    "    return A, B"
   ]
  },
  {
   "cell_type": "markdown",
   "id": "floppy-symposium",
   "metadata": {},
   "source": [
    "Z twierdzenia o zbieżności procesu iteracyjnego, aby proces był zbieżny, promień spektralny macierzy iteracji musi być mniejszy od 1. Promień spektralny jest równy maksymalnej wartości bezwględnej z wartości własnych macierzy."
   ]
  },
  {
   "cell_type": "code",
   "execution_count": 110,
   "id": "nominated-inspector",
   "metadata": {},
   "outputs": [],
   "source": [
    "def spectral_radius(A):\n",
    "    eigvals = np.linalg.eigvals(A)\n",
    "    return abs(max(eigvals, key=abs))"
   ]
  },
  {
   "cell_type": "markdown",
   "id": "conditional-termination",
   "metadata": {},
   "source": [
    "W implementacji trzech metod iteracyjnych skorzystałem z operacji na macierzach."
   ]
  },
  {
   "cell_type": "markdown",
   "id": "international-meter",
   "metadata": {},
   "source": [
    "#### metoda Jacobiego"
   ]
  },
  {
   "cell_type": "code",
   "execution_count": 111,
   "id": "northern-start",
   "metadata": {},
   "outputs": [],
   "source": [
    "def jacobi(A, B, x0, exact, precision=1e-4):\n",
    "    n = A.shape[0]\n",
    "    \n",
    "    A, B = non_zero_diagonal(A, B)\n",
    "    \n",
    "    x = x0\n",
    "    D = np.diag(np.diag(A))\n",
    "    inv_D = np.diag(1/np.diag(A))\n",
    "    M = np.eye(n) - inv_D @ A   \n",
    "    W = inv_D @ B\n",
    "    \n",
    "    radius = spectral_radius(M)\n",
    "    if radius >= 1:\n",
    "        raise Exception(f'spectral radius ({radius}) is not less than 1')\n",
    "    \n",
    "    errors = []\n",
    "    i = 0\n",
    "    \n",
    "    while not np.allclose(x, exact, atol=precision):\n",
    "        errors.append(np.mean((abs(exact-x))))\n",
    "        x  = M @ x + W\n",
    "        i += 1\n",
    "        \n",
    "        if i > 5000:\n",
    "            raise Exception('iterations limit exceeded')\n",
    "    \n",
    "    errors.append(np.mean((abs(exact-x))))\n",
    "    return i, x, errors, radius"
   ]
  },
  {
   "cell_type": "markdown",
   "id": "undefined-operator",
   "metadata": {},
   "source": [
    "#### metoda Gaussa-Seidla"
   ]
  },
  {
   "cell_type": "code",
   "execution_count": 112,
   "id": "compound-attendance",
   "metadata": {},
   "outputs": [],
   "source": [
    "def gauss_seidl(A, B, x0, exact, precision=1e-4):\n",
    "    n = A.shape[0]\n",
    "    \n",
    "    A, B = non_zero_diagonal(A, B)\n",
    "    \n",
    "    x = x0\n",
    "    L = np.tril(A)\n",
    "    \n",
    "    U = np.triu(A) - np.diag(np.diag(A))\n",
    "    M = -inv(L) @ U\n",
    "    W = inv(L) @ B\n",
    "    \n",
    "    radius = spectral_radius(M)\n",
    "    if radius >= 1:\n",
    "        raise Exception(f'spectral radius ({radius}) is not less than 1')\n",
    "    \n",
    "    errors = []\n",
    "    i = 0\n",
    "    \n",
    "    while not np.allclose(x, exact, atol=precision):\n",
    "        errors.append(np.mean((abs(exact-x))))\n",
    "        x  = M @ x + W\n",
    "        i += 1\n",
    "        \n",
    "        if i > 5000:\n",
    "            raise Exception('iterations limit exceeded')\n",
    "    \n",
    "    errors.append(np.mean((abs(exact-x))))                  \n",
    "    return i, x, errors, radius"
   ]
  },
  {
   "cell_type": "markdown",
   "id": "timely-huntington",
   "metadata": {},
   "source": [
    "#### metoda SOR"
   ]
  },
  {
   "cell_type": "code",
   "execution_count": 113,
   "id": "attached-expense",
   "metadata": {},
   "outputs": [],
   "source": [
    "def sor(A, B, x0, exact, omega, precision=1e-4):\n",
    "    n = A.shape[0]\n",
    "    \n",
    "    A, B = non_zero_diagonal(A, B)\n",
    "    \n",
    "    x = x0\n",
    "    D = np.diag(np.diag(A))\n",
    "    L = np.tril(A) - D\n",
    "    U = np.triu(A) - D\n",
    "    M = inv(D + omega*L) @ (D - omega*(D + U))\n",
    "    W = omega * inv(D + omega*L) @ B\n",
    "    \n",
    "    radius = spectral_radius(M)\n",
    "    if radius >= 1:\n",
    "        raise Exception(f'spectral radius ({radius}) is not less than 1')\n",
    "    \n",
    "    i = 0\n",
    "    errors = []\n",
    "    \n",
    "    while not np.allclose(x, exact, atol=precision):\n",
    "        errors.append(np.mean((abs(exact-x))))\n",
    "        x  = M @ x + W\n",
    "        \n",
    "        i += 1\n",
    "        if i > 5000:\n",
    "            raise Exception('iterations limit exceeded')\n",
    "    \n",
    "    errors.append(np.mean((abs(exact-x))))\n",
    "    \n",
    "    return i, x, errors, radius"
   ]
  },
  {
   "cell_type": "markdown",
   "id": "acoustic-clothing",
   "metadata": {},
   "source": [
    "W powyższej implementacji zadanych metod (Gaussa-Seidla i SOR), skorzystałem z funkcji numpy.linalg.inv do znalezienia macierzy odwrotnej. Z założenia, w metodach iteracyjnych dobieramy takie macierze, aby policzenie odwrotności było proste. Zdecydowałem się na użycie funkcji bibliotecznej, gdyż przypuszczam, iż funkcja ta jest zoptymalizowana kątem szczególnych typów macierzy i korzystając z niej, nie zwiększę w szczególny sposób błędu."
   ]
  },
  {
   "cell_type": "markdown",
   "id": "accurate-agriculture",
   "metadata": {},
   "source": [
    "#### testy"
   ]
  },
  {
   "cell_type": "code",
   "execution_count": 114,
   "id": "killing-privacy",
   "metadata": {},
   "outputs": [],
   "source": [
    "A1 = np.array([[7, 1, -1, 2], [1, 8, 0, -2],[-1, 0, 4, -1], [2, -2, -1, 6]])\n",
    "B1 = np.array([3, -5, 4, -3])\n",
    "x01 = np.zeros(4)\n",
    "omega1 = 1.1\n",
    "exact1 = np.array([1, -1, 1, -1])"
   ]
  },
  {
   "cell_type": "code",
   "execution_count": 115,
   "id": "likely-throw",
   "metadata": {},
   "outputs": [],
   "source": [
    "A2 = np.array([[7, 3, -1, 2], [3, 8, 1, -4],[-1, 1, 4, -1], [2, -4, -1, 6]])\n",
    "B2 = np.array([-1, 0, -3, 1])\n",
    "x02 = np.zeros(4)\n",
    "omega2 = 1.4\n",
    "exact2 = np.array([-1, 1, -1, 1])"
   ]
  },
  {
   "cell_type": "code",
   "execution_count": 116,
   "id": "remarkable-lyric",
   "metadata": {},
   "outputs": [],
   "source": [
    "def test_solve(A, B, x0, exact, omega):\n",
    "    jacobi_res = jacobi(A, B, x0, exact)\n",
    "    gauss_seidl_res = gauss_seidl(A, B, x0, exact)\n",
    "    sor_res = sor(A, B, x0, exact, omega)\n",
    "    \n",
    "\n",
    "    print(f\"\\n--JACOBI--\\n\\titerations: {jacobi_res[0]} | result: {jacobi_res[1]}\")\n",
    "    print('\\tspectral radius:\\n', jacobi_res[3])\n",
    "    print(f\"--GAUSS-SEIDL--\\n\\titerations: {gauss_seidl_res[0]} | result: {gauss_seidl_res[1]}\")\n",
    "    print('\\tspectral radius:\\n', gauss_seidl_res[3])\n",
    "    print(f\"--SOR--\\n\\titerations: {sor_res[0]} | result: {sor_res[1]}\")\n",
    "    print('\\tspectral radius:\\n', sor_res[3])"
   ]
  },
  {
   "cell_type": "code",
   "execution_count": 117,
   "id": "preceding-oklahoma",
   "metadata": {},
   "outputs": [
    {
     "name": "stdout",
     "output_type": "stream",
     "text": [
      "\n",
      "--JACOBI--\n",
      "\titerations: 14 | result: [ 0.99995716 -0.99995716  1.00000235 -0.99992703]\n",
      "\tspectral radius:\n",
      " 0.4966500211811145\n",
      "--GAUSS-SEIDL--\n",
      "\titerations: 7 | result: [ 0.99989203 -0.99991255  1.00004696 -0.99992703]\n",
      "\tspectral radius:\n",
      " 0.24666124353920096\n",
      "--SOR--\n",
      "\titerations: 5 | result: [ 1.00002942 -1.00002682  0.99996387 -1.00000953]\n",
      "\tspectral radius:\n",
      " 0.10000000000000009\n"
     ]
    }
   ],
   "source": [
    "test_solve(A1, B1, x01, exact1, omega1)"
   ]
  },
  {
   "cell_type": "code",
   "execution_count": 118,
   "id": "embedded-driver",
   "metadata": {},
   "outputs": [
    {
     "name": "stdout",
     "output_type": "stream",
     "text": [
      "\n",
      "--JACOBI--\n",
      "\titerations: 71 | result: [-0.99991675  0.99990401 -0.99997751  0.99989967]\n",
      "\tspectral radius:\n",
      " 0.8770907658496181\n",
      "--GAUSS-SEIDL--\n",
      "\titerations: 36 | result: [-0.99990588  0.99990014 -0.99998236  0.999905  ]\n",
      "\tspectral radius:\n",
      " 0.7698961627782164\n",
      "--SOR--\n",
      "\titerations: 11 | result: [-1.00007883  1.00007612 -0.99995452  1.00006055]\n",
      "\tspectral radius:\n",
      " 0.41711260752444557\n"
     ]
    }
   ],
   "source": [
    "test_solve(A2, B2, x02, exact2, omega2)"
   ]
  },
  {
   "cell_type": "markdown",
   "id": "french-despite",
   "metadata": {},
   "source": [
    "#### zależność błędu od liczby iteracji"
   ]
  },
  {
   "cell_type": "markdown",
   "id": "played-mathematics",
   "metadata": {},
   "source": [
    "<i>Zaprezentuj na wykresie zależność błędu od iteracji. Opisz i zinterpretuj wyniki. </i>"
   ]
  },
  {
   "cell_type": "code",
   "execution_count": 119,
   "id": "native-lunch",
   "metadata": {},
   "outputs": [],
   "source": [
    "def plot_iteration_error(A, B, x0, exact, omega):\n",
    "    jacobi_errors = jacobi(A, B, x0, exact)[2]\n",
    "    gauss_seidl_errors = gauss_seidl(A, B, x0, exact)[2]\n",
    "    sor_errors = sor(A, B, x0, exact, omega)[2]\n",
    "    \n",
    "    _, ax = plt.subplots(figsize=(12,8))\n",
    "    \n",
    "    ax.set_xlabel('iteration')\n",
    "    ax.set_ylabel('error')\n",
    "    \n",
    "    ax.plot(list(range(len(jacobi_errors))), jacobi_errors, marker='o', label='jacobi', color='rosybrown', markersize=8)\n",
    "    ax.plot(list(range(len(gauss_seidl_errors))), gauss_seidl_errors, marker='o', label='gauss-seidl', color='lightskyblue', markersize=8)\n",
    "    ax.plot(list(range(len(sor_errors))), sor_errors, marker='o', label='sor', color='mediumaquamarine', markersize=8)\n",
    "    \n",
    "    plt.legend()\n",
    "    plt.show()"
   ]
  },
  {
   "cell_type": "code",
   "execution_count": 120,
   "id": "direct-municipality",
   "metadata": {},
   "outputs": [
    {
     "data": {
      "image/png": "[encoded data removed]",
      "text/plain": [
       "<Figure size 864x576 with 1 Axes>"
      ]
     },
     "metadata": {
      "needs_background": "light"
     },
     "output_type": "display_data"
    }
   ],
   "source": [
    "plot_iteration_error(A1, B1, x01, exact1, omega1)"
   ]
  },
  {
   "cell_type": "code",
   "execution_count": 121,
   "id": "physical-craft",
   "metadata": {},
   "outputs": [
    {
     "data": {
      "image/png": "[encoded data removed]",
      "text/plain": [
       "<Figure size 864x576 with 1 Axes>"
      ]
     },
     "metadata": {
      "needs_background": "light"
     },
     "output_type": "display_data"
    }
   ],
   "source": [
    "plot_iteration_error(A2, B2, x02, exact2, omega2)"
   ]
  },
  {
   "cell_type": "markdown",
   "id": "offshore-departure",
   "metadata": {},
   "source": [
    "Dla obydwu przypadków wszystkie metody poprawnie odnalazły rozwiązanie układu z zadaną dokładnością. Dla obydwu układów najszybciej zbiegająca okazała się metoda SOR, nieco wolniejsza była metoda Gaussa-Seidla, a najwolniej zbiegała metoda Jacobiego. Skuteczność metody SOR wynika jednak z doboru omegi, która była podana. Przyjmując omega=1 metoda SOR jest równoważna metodzie Gaussa-Seidla, jednak dobierając korzystną wartość omega, jesteśmy w stanie przyspieszyć procedurę.\n",
    "\n",
    "Wyraźnie widać, iż wyniki otrzymane dla drugiej macierzy są gorsze niż te dla pierwszej; wszystkie metody potrzebowały większej liczby iteracji do osiagnięcia zamierzonej dokładności. Wynika to z natury zadanej macierzy oraz parametrów wybranej macierzy iteracji, a konkretnie jej promienia spektralnego. Jak można zauważyć, im mniejsza wartość promienia, tym szybciej metoda zbiega do poprawnej wartości. \n",
    "\n",
    "We wszystkich przypadkach promień spektralny był mniejszy od 1, co pozwoliło uzyskać poprawny wynik, jednak konkretna wartość różniła się, co wpłynęło na liczbę potrzebnych iteracji."
   ]
  },
  {
   "cell_type": "markdown",
   "id": "running-score",
   "metadata": {},
   "source": [
    "## 2. Analiza obwodu elektrycznego"
   ]
  },
  {
   "cell_type": "markdown",
   "id": "coastal-atlanta",
   "metadata": {},
   "source": [
    "<i> Wykorzystaj dowolną z powyższych metod do wyliczenia natężenia prądu w każdej z części obwodu elektrycznego. <br><br>\n",
    "a) Stwórz funkcję tworzącą graf opisujący obwód elektryczny. Argumentami tej funkcji są:\n",
    "\n",
    "* Lista krawędzi grafu ważonego gdzie wagi krawędzi określają opór fragmentu obwodu między dwoma węzłami. Wierzchołki grafu identyfikowane są przez liczby naturalne.\n",
    "* Trójka liczb (s, t, E), przy czym para (s, t) wskazuje między którymi węzłami sieci przyłożono siłę elektromotoryczną E. Opór wewnętrzny SEM można zaniedbać. </i>"
   ]
  },
  {
   "cell_type": "code",
   "execution_count": 122,
   "id": "collected-officer",
   "metadata": {},
   "outputs": [],
   "source": [
    "def create_circuit(resistors, emf):\n",
    "    graph = nx.DiGraph()\n",
    "    \n",
    "    for a, b, resistance in resistors:\n",
    "        graph.add_edge(a, b, weight=resistance)\n",
    "        \n",
    "    a, b, weight = emf\n",
    "    if (a, b) not in graph.edges() and (b, a) not in graph.edges():\n",
    "        graph.add_edge(a, b, weight=0)\n",
    "    \n",
    "    return graph"
   ]
  },
  {
   "cell_type": "code",
   "execution_count": 148,
   "id": "standard-situation",
   "metadata": {},
   "outputs": [],
   "source": [
    "def draw_graph(graph, pos=None):\n",
    "    if pos is None:\n",
    "        pos=nx.circular_layout(graph)\n",
    "        \n",
    "    nx.draw_networkx(graph, pos, with_labels=True, node_color='cadetblue')\n",
    "    labels = nx.get_edge_attributes(graph, 'weight')\n",
    "    nx.draw_networkx_edge_labels(graph, pos=pos, edge_labels=labels)"
   ]
  },
  {
   "cell_type": "markdown",
   "id": "cheap-harrison",
   "metadata": {},
   "source": [
    "<i>b) Napisz funkcję, która wykorzystując prawa Kirchhoffa znajdzie natężenia prądu w każdej części obwodu i przedstawi je na rysunku w postaci grafu ważonego z etykietami. </i>"
   ]
  },
  {
   "cell_type": "code",
   "execution_count": 149,
   "id": "naked-middle",
   "metadata": {},
   "outputs": [],
   "source": [
    "def get_amperage(graph, a, b, voltage, exact=None):\n",
    "    n = graph.number_of_edges()\n",
    "    A = np.zeros((n, n))\n",
    "    B = np.zeros(n)\n",
    "\n",
    "    edges = {x: i for i, x in enumerate(graph.edges())}\n",
    "    \n",
    "    row = 0\n",
    "    \n",
    "    # Drugie Prawo Kirchhoffa\n",
    "    for cycle in nx.cycle_basis(graph.to_undirected()):\n",
    "        for j in range(len(cycle)):\n",
    "            v1, v2 = cycle[j-1], cycle[j]\n",
    "            \n",
    "            # opór elektryczny\n",
    "            if (v1, v2) in edges:\n",
    "                A[row][edges[v1, v2]] = graph[v1][v2]['weight']\n",
    "            else:\n",
    "                A[row][edges[v2, v1]] = -graph[v2][v1]['weight']\n",
    "                \n",
    "            # siła elektromotoryczna ogniwa\n",
    "            if (v1, v2) == (a, b):\n",
    "                B[row] = voltage\n",
    "            elif (v1, v2) == (b, a):\n",
    "                B[row] = -voltage\n",
    "                \n",
    "        row += 1\n",
    "    \n",
    "    rows_start = row\n",
    "        \n",
    "    # Pierwsze Prawo Kirchhoffa\n",
    "    for row in range(rows_start, n):\n",
    "        v1 = row - rows_start\n",
    "        for v2 in graph[v1]:\n",
    "            A[row][edges[v1, v2]] = 1\n",
    "        for v2, _ in graph.in_edges(v1):\n",
    "            A[row][edges[v2, v1]] = -1\n",
    "    \n",
    "\n",
    "    if exact is None:\n",
    "        exact = np.linalg.solve(A, B)\n",
    "    \n",
    "    try:\n",
    "        x = gauss_seidl(A, B, np.zeros(len(edges)), exact, precision=0.5)\n",
    "    except Exception as ex:\n",
    "        print(ex)\n",
    "        x = exact\n",
    "    \n",
    "    new_graph = nx.DiGraph()\n",
    "    \n",
    "    for edge, i in edges.items():\n",
    "        a, b = (edge[0], edge[1]) if x[i] > 0 else (edge[1], edge[0])\n",
    "        new_graph.add_edge(a, b, weight=round(abs(x[i]), 2))\n",
    "    \n",
    "    return new_graph"
   ]
  },
  {
   "cell_type": "markdown",
   "id": "speaking-evidence",
   "metadata": {},
   "source": [
    "<i>c) Przetestuj działanie metody dla obwodu przedstawionego na Rysunku 1, wiedząc, że poprawne rozwiązanie to $x_1 = 26.5, x_2 = 9.35, x_3 = 13.3, x_4 = 6.13$ </i>"
   ]
  },
  {
   "cell_type": "code",
   "execution_count": 150,
   "id": "monthly-session",
   "metadata": {},
   "outputs": [
    {
     "data": {
      "image/png": "[encoded data removed]",
      "text/plain": [
       "<Figure size 432x288 with 1 Axes>"
      ]
     },
     "metadata": {},
     "output_type": "display_data"
    }
   ],
   "source": [
    "resistors = [(0, 1, 6), (0, 2, 9), (0, 3, 11), \n",
    "             (1, 2, 4), (1, 4, 2), (2, 3, 1), (3, 4, 5),\n",
    "             (4, 5, 7), (6, 0, 0)]\n",
    "\n",
    "emf = (6, 5, 300)\n",
    "\n",
    "pos = {0: (10, 1), 1: (6, 5), 2: (10, 5), 3: (14, 5), 4: (10, 9), 5: (1, 9), 6:(1, 1)}\n",
    "\n",
    "g = create_circuit(resistors, emf)\n",
    "draw_graph(g, pos)"
   ]
  },
  {
   "cell_type": "code",
   "execution_count": 151,
   "id": "least-merchant",
   "metadata": {},
   "outputs": [
    {
     "name": "stdout",
     "output_type": "stream",
     "text": [
      "Singular matrix\n"
     ]
    },
    {
     "data": {
      "image/png": "[encoded data removed]",
      "text/plain": [
       "<Figure size 432x288 with 1 Axes>"
      ]
     },
     "metadata": {},
     "output_type": "display_data"
    }
   ],
   "source": [
    "result_graph = get_amperage(g, *emf)\n",
    "draw_graph(result_graph, pos)"
   ]
  },
  {
   "cell_type": "markdown",
   "id": "nearby-sperm",
   "metadata": {},
   "source": [
    "<i>d) Przedstaw (wizualizacja oraz sprawdzenie poprawności wyników) działanie programu dla grafów spójnych mających od 15 do 100 wierzchołków: </i>\n",
    "    "
   ]
  },
  {
   "cell_type": "markdown",
   "id": "beautiful-bolivia",
   "metadata": {},
   "source": [
    "* Spójny graf losowy"
   ]
  },
  {
   "cell_type": "code",
   "execution_count": null,
   "id": "cordless-apple",
   "metadata": {},
   "outputs": [],
   "source": []
  },
  {
   "cell_type": "markdown",
   "id": "italic-assistant",
   "metadata": {},
   "source": [
    "* Graf 3-regularny (kubiczny)"
   ]
  },
  {
   "cell_type": "code",
   "execution_count": null,
   "id": "similar-rachel",
   "metadata": {},
   "outputs": [],
   "source": []
  },
  {
   "cell_type": "markdown",
   "id": "fluid-affiliation",
   "metadata": {},
   "source": [
    "* Graf złożony z dwóch grafów losowych połączonych mostkiem"
   ]
  },
  {
   "cell_type": "code",
   "execution_count": null,
   "id": "protected-bearing",
   "metadata": {},
   "outputs": [],
   "source": []
  },
  {
   "cell_type": "markdown",
   "id": "double-sierra",
   "metadata": {},
   "source": [
    "* Graf siatka 2D"
   ]
  },
  {
   "cell_type": "code",
   "execution_count": null,
   "id": "arabic-baking",
   "metadata": {},
   "outputs": [],
   "source": []
  },
  {
   "cell_type": "markdown",
   "id": "stunning-netscape",
   "metadata": {},
   "source": [
    "## Wnioski"
   ]
  },
  {
   "cell_type": "markdown",
   "id": "smart-sympathy",
   "metadata": {},
   "source": [
    " - \n",
    " - \n",
    " -"
   ]
  },
  {
   "cell_type": "markdown",
   "id": "adult-notification",
   "metadata": {},
   "source": [
    "M. Hawryluk 29.04.2021"
   ]
  }
 ],
 "metadata": {
  "kernelspec": {
   "display_name": "Python 3",
   "language": "python",
   "name": "python3"
  },
  "language_info": {
   "codemirror_mode": {
    "name": "ipython",
    "version": 3
   },
   "file_extension": ".py",
   "mimetype": "text/x-python",
   "name": "python",
   "nbconvert_exporter": "python",
   "pygments_lexer": "ipython3",
   "version": "3.8.6"
  }
 },
 "nbformat": 4,
 "nbformat_minor": 5
}
