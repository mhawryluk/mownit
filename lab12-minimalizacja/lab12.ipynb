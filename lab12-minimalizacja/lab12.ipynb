{
 "cells": [
  {
   "cell_type": "markdown",
   "id": "going-chamber",
   "metadata": {},
   "source": [
    "# Zestaw 12. Minimalizacja"
   ]
  },
  {
   "cell_type": "code",
   "execution_count": 1,
   "id": "signed-poison",
   "metadata": {},
   "outputs": [],
   "source": [
    "import numpy as np\n",
    "import matplotlib.pyplot as plt\n",
    "import scipy.optimize as sp"
   ]
  },
  {
   "cell_type": "markdown",
   "id": "historic-bristol",
   "metadata": {},
   "source": [
    "## 1. Minimalizacja"
   ]
  },
  {
   "cell_type": "markdown",
   "id": "adjusted-characteristic",
   "metadata": {},
   "source": [
    "<i>Wybierz i opisz dowolną metodę minimalizacji dostępną w scipy.optimize.minimize. Zaprezentuj jej działanie dla 3 wybranych funkcji. Wykorzystaj argument callback do śledzenia zachowania metody w kolejnych iteracjach. Zaprezentuj na wykresie kolejne przybliżenia a także ich błąd przybliżenia w załeżności od iteracji. Sprawdź różne punkty startowe. </i>"
   ]
  },
  {
   "cell_type": "markdown",
   "id": "sufficient-notification",
   "metadata": {},
   "source": [
    "#### metoda Neldera-Meada"
   ]
  },
  {
   "cell_type": "markdown",
   "id": "electric-recording",
   "metadata": {},
   "source": [
    "Wybrałem metodę Neldera-Meada, inaczej zwaną Sympleksową Metodą Spadku. Jest to iteracyjna metoda znajdowania minimum, nie wykorzystująca pochodnych. W każdym kroku dany jest układ n+1 punktów z R^n. W metodzie tej wybieramy 3 parametry alfa, beta, gamma, które posłużą do znajdowania kolejnych punktów definiujących nowy symplex. Jeden z tych punktów jest środkiem ciężkości tego symplexu. Następnie rozważamy 3 przypadki w zależności od wartości w zadanych punktach symplexu (w tym aktualnego minimum) i w specjalnie wyliczonych punktach P* i P** w zależności między sobą. W 2D symplexami są trójkąty, minimum reprezentuje jeden wyróżniony wierzchołek."
   ]
  },
  {
   "cell_type": "markdown",
   "id": "enhanced-model",
   "metadata": {},
   "source": [
    "#### działanie dla kilku funkcji"
   ]
  },
  {
   "cell_type": "code",
   "execution_count": 2,
   "id": "mobile-latitude",
   "metadata": {},
   "outputs": [],
   "source": [
    "def save_steps(steps):\n",
    "    def callback(x):\n",
    "        steps.append(x)\n",
    "    return callback"
   ]
  },
  {
   "cell_type": "markdown",
   "id": "professional-prophet",
   "metadata": {},
   "source": [
    "* funkcja do wizulizacji kolejnych punktów i błędów"
   ]
  },
  {
   "cell_type": "code",
   "execution_count": 3,
   "id": "unknown-cornwall",
   "metadata": {},
   "outputs": [],
   "source": [
    "def draw_steps(steps, f, a, b, actual_min_x):\n",
    "    \n",
    "    actual_f = f(actual_min_x)\n",
    "    print('actual x: ', actual_min_x, 'actual min value: ', actual_f)\n",
    "    fig, ax = plt.subplots(2, 1, figsize=(10, 12))\n",
    "    x = np.linspace(a, b, 1000)\n",
    "    \n",
    "    errors = []\n",
    "    \n",
    "    for step in steps:\n",
    "        f_x = f(step)\n",
    "        error = abs(actual_f - f_x)\n",
    "        errors.append(error[0])\n",
    "        print('x:', step, 'f(x):', *f_x, 'error:', *error)\n",
    "    \n",
    "    ax[0].plot(x, f(x), lw=3, color='royalblue')\n",
    "    ax[0].scatter(steps, [f(x[0]) for x in steps], lw=5, color='lime', zorder=5)\n",
    "    ax[0].plot()\n",
    "    ax[0].set_title('f')\n",
    "    ax[0].set_xlabel('x')\n",
    "    ax[0].set_ylabel('y')\n",
    "\n",
    "    \n",
    "    ax[1].bar(list(range(len(steps))), errors, color='lightsteelblue')\n",
    "    ax[1].set_title('errors')\n",
    "    ax[1].set_xlabel('iteration number')\n",
    "    ax[1].set_ylabel('error')"
   ]
  },
  {
   "cell_type": "markdown",
   "id": "sitting-honduras",
   "metadata": {},
   "source": [
    "#### 1D"
   ]
  },
  {
   "cell_type": "markdown",
   "id": "apparent-saudi",
   "metadata": {},
   "source": [
    "* $f_1 = x^2 + 1$"
   ]
  },
  {
   "cell_type": "markdown",
   "id": "precise-thread",
   "metadata": {},
   "source": [
    " > wartość początkowa: x0 = 5"
   ]
  },
  {
   "cell_type": "code",
   "execution_count": 4,
   "id": "paperback-greensboro",
   "metadata": {},
   "outputs": [],
   "source": [
    "f1 = lambda x: x**2 + 1\n",
    "x0 = 5"
   ]
  },
  {
   "cell_type": "code",
   "execution_count": 5,
   "id": "adapted-boulder",
   "metadata": {},
   "outputs": [],
   "source": [
    "steps_1 = []"
   ]
  },
  {
   "cell_type": "code",
   "execution_count": 6,
   "id": "valued-dakota",
   "metadata": {},
   "outputs": [
    {
     "data": {
      "text/plain": [
       " final_simplex: (array([[ 0.00000000e+00],\n",
       "       [-6.10351562e-05]]), array([1., 1.]))\n",
       "           fun: 1.0\n",
       "       message: 'Optimization terminated successfully.'\n",
       "          nfev: 40\n",
       "           nit: 20\n",
       "        status: 0\n",
       "       success: True\n",
       "             x: array([0.])"
      ]
     },
     "execution_count": 6,
     "metadata": {},
     "output_type": "execute_result"
    }
   ],
   "source": [
    "sp.minimize(f1, x0=x0, method='nelder-mead', callback=save_steps(steps_1))"
   ]
  },
  {
   "cell_type": "code",
   "execution_count": 7,
   "id": "configured-heating",
   "metadata": {
    "scrolled": false
   },
   "outputs": [
    {
     "name": "stdout",
     "output_type": "stream",
     "text": [
      "actual x:  0 actual min value:  1\n",
      "x: [4.5] f(x): 21.25 error: 20.25\n",
      "x: [3.5] f(x): 13.25 error: 12.25\n",
      "x: [1.5] f(x): 3.25 error: 2.25\n",
      "x: [-0.5] f(x): 1.25 error: 0.25\n",
      "x: [-0.5] f(x): 1.25 error: 0.25\n",
      "x: [0.] f(x): 1.0 error: 0.0\n",
      "x: [0.] f(x): 1.0 error: 0.0\n",
      "x: [0.] f(x): 1.0 error: 0.0\n",
      "x: [0.] f(x): 1.0 error: 0.0\n",
      "x: [0.] f(x): 1.0 error: 0.0\n",
      "x: [0.] f(x): 1.0 error: 0.0\n",
      "x: [0.] f(x): 1.0 error: 0.0\n",
      "x: [0.] f(x): 1.0 error: 0.0\n",
      "x: [0.] f(x): 1.0 error: 0.0\n",
      "x: [0.] f(x): 1.0 error: 0.0\n",
      "x: [0.] f(x): 1.0 error: 0.0\n",
      "x: [0.] f(x): 1.0 error: 0.0\n",
      "x: [0.] f(x): 1.0 error: 0.0\n",
      "x: [0.] f(x): 1.0 error: 0.0\n"
     ]
    },
    {
     "data": {
      "image/png": "[encoded data removed]",
      "text/plain": [
       "<Figure size 720x864 with 2 Axes>"
      ]
     },
     "metadata": {
      "needs_background": "light"
     },
     "output_type": "display_data"
    }
   ],
   "source": [
    "draw_steps(steps_1, f1, -2, 5, 0)"
   ]
  },
  {
   "cell_type": "markdown",
   "id": "employed-printing",
   "metadata": {},
   "source": [
    "Możemy zauważyć, iż mimo dużej liczby iteracji, wartość dokładna została osiągnięta już dużo wcześniej, po około pięciu iteracjach."
   ]
  },
  {
   "cell_type": "markdown",
   "id": "arctic-script",
   "metadata": {},
   "source": [
    "> wartość początkowa x0 = 1000"
   ]
  },
  {
   "cell_type": "code",
   "execution_count": 8,
   "id": "wrong-marine",
   "metadata": {},
   "outputs": [],
   "source": [
    "x0_1 = 1000"
   ]
  },
  {
   "cell_type": "code",
   "execution_count": 9,
   "id": "handled-spencer",
   "metadata": {},
   "outputs": [],
   "source": [
    "steps_1_1 = []"
   ]
  },
  {
   "cell_type": "code",
   "execution_count": 10,
   "id": "cooperative-character",
   "metadata": {},
   "outputs": [
    {
     "data": {
      "text/plain": [
       " final_simplex: (array([[ 0.00000000e+00],\n",
       "       [-9.53674316e-05]]), array([1.        , 1.00000001]))\n",
       "           fun: 1.0\n",
       "       message: 'Optimization terminated successfully.'\n",
       "          nfev: 54\n",
       "           nit: 27\n",
       "        status: 0\n",
       "       success: True\n",
       "             x: array([0.])"
      ]
     },
     "execution_count": 10,
     "metadata": {},
     "output_type": "execute_result"
    }
   ],
   "source": [
    "sp.minimize(f1, x0=x0_1, method='nelder-mead', callback=save_steps(steps_1_1))"
   ]
  },
  {
   "cell_type": "code",
   "execution_count": 11,
   "id": "coated-tenant",
   "metadata": {
    "scrolled": false
   },
   "outputs": [
    {
     "name": "stdout",
     "output_type": "stream",
     "text": [
      "actual x:  0 actual min value:  1\n",
      "x: [900.] f(x): 810001.0 error: 810000.0\n",
      "x: [700.] f(x): 490001.0 error: 490000.0\n",
      "x: [300.] f(x): 90001.0 error: 90000.0\n",
      "x: [-100.] f(x): 10001.0 error: 10000.0\n",
      "x: [-100.] f(x): 10001.0 error: 10000.0\n",
      "x: [0.] f(x): 1.0 error: 0.0\n",
      "x: [0.] f(x): 1.0 error: 0.0\n",
      "x: [0.] f(x): 1.0 error: 0.0\n",
      "x: [0.] f(x): 1.0 error: 0.0\n",
      "x: [0.] f(x): 1.0 error: 0.0\n",
      "x: [0.] f(x): 1.0 error: 0.0\n",
      "x: [0.] f(x): 1.0 error: 0.0\n",
      "x: [0.] f(x): 1.0 error: 0.0\n",
      "x: [0.] f(x): 1.0 error: 0.0\n",
      "x: [0.] f(x): 1.0 error: 0.0\n",
      "x: [0.] f(x): 1.0 error: 0.0\n",
      "x: [0.] f(x): 1.0 error: 0.0\n",
      "x: [0.] f(x): 1.0 error: 0.0\n",
      "x: [0.] f(x): 1.0 error: 0.0\n",
      "x: [0.] f(x): 1.0 error: 0.0\n",
      "x: [0.] f(x): 1.0 error: 0.0\n",
      "x: [0.] f(x): 1.0 error: 0.0\n",
      "x: [0.] f(x): 1.0 error: 0.0\n",
      "x: [0.] f(x): 1.0 error: 0.0\n",
      "x: [0.] f(x): 1.0 error: 0.0\n",
      "x: [0.] f(x): 1.0 error: 0.0\n"
     ]
    },
    {
     "data": {
      "image/png": "[encoded data removed]",
      "text/plain": [
       "<Figure size 720x864 with 2 Axes>"
      ]
     },
     "metadata": {
      "needs_background": "light"
     },
     "output_type": "display_data"
    }
   ],
   "source": [
    "draw_steps(steps_1_1, f1, -200, 1000, 0)"
   ]
  },
  {
   "cell_type": "markdown",
   "id": "brown-pierre",
   "metadata": {},
   "source": [
    "W tym przypadku wybór punktu początkowego nie ma większego wpływu na liczbę iteracji."
   ]
  },
  {
   "cell_type": "markdown",
   "id": "falling-administrator",
   "metadata": {},
   "source": [
    "* $f_2 = x^4 + x^3 - 2x^2$"
   ]
  },
  {
   "cell_type": "markdown",
   "id": "iraqi-grain",
   "metadata": {},
   "source": [
    "> wartość początkowa: x0 = 2"
   ]
  },
  {
   "cell_type": "code",
   "execution_count": 12,
   "id": "brown-thermal",
   "metadata": {},
   "outputs": [],
   "source": [
    "f2 = lambda x: x**4 +x**3 -2*x**2\n",
    "x0_2 = 2"
   ]
  },
  {
   "cell_type": "code",
   "execution_count": 13,
   "id": "eleven-audio",
   "metadata": {},
   "outputs": [],
   "source": [
    "steps_2 = []"
   ]
  },
  {
   "cell_type": "code",
   "execution_count": 14,
   "id": "associate-butler",
   "metadata": {},
   "outputs": [
    {
     "data": {
      "text/plain": [
       " final_simplex: (array([[0.69296875],\n",
       "       [0.69306641]]), array([-0.39704634, -0.39704633]))\n",
       "           fun: -0.39704633802138267\n",
       "       message: 'Optimization terminated successfully.'\n",
       "          nfev: 35\n",
       "           nit: 17\n",
       "        status: 0\n",
       "       success: True\n",
       "             x: array([0.69296875])"
      ]
     },
     "execution_count": 14,
     "metadata": {},
     "output_type": "execute_result"
    }
   ],
   "source": [
    "sp.minimize(f2, x0=x0_2, method='nelder-mead', callback=save_steps(steps_2))"
   ]
  },
  {
   "cell_type": "code",
   "execution_count": 15,
   "id": "continuing-throat",
   "metadata": {
    "scrolled": false
   },
   "outputs": [
    {
     "name": "stdout",
     "output_type": "stream",
     "text": [
      "actual x:  -1.4430004681646913 actual min value:  -2.8334224090003515\n",
      "x: [1.8] f(x): 9.849599999999997 error: 12.683022409000348\n",
      "x: [1.4] f(x): 2.6655999999999938 error: 5.499022409000345\n",
      "x: [0.6] f(x): -0.3743999999999994 error: 2.459022409000352\n",
      "x: [0.6] f(x): -0.3743999999999994 error: 2.459022409000352\n",
      "x: [0.6] f(x): -0.3743999999999994 error: 2.459022409000352\n",
      "x: [0.7] f(x): -0.39690000000000003 error: 2.4365224090003514\n",
      "x: [0.7] f(x): -0.39690000000000003 error: 2.4365224090003514\n",
      "x: [0.7] f(x): -0.39690000000000003 error: 2.4365224090003514\n",
      "x: [0.6875] f(x): -0.3969573974609375 error: 2.436465011539414\n",
      "x: [0.69375] f(x): -0.39704467620849615 error: 2.4363777327918554\n",
      "x: [0.69375] f(x): -0.39704467620849615 error: 2.4363777327918554\n",
      "x: [0.69375] f(x): -0.39704467620849615 error: 2.4363777327918554\n",
      "x: [0.69296875] f(x): -0.39704633802138267 error: 2.4363760709789686\n",
      "x: [0.69296875] f(x): -0.39704633802138267 error: 2.4363760709789686\n",
      "x: [0.69296875] f(x): -0.39704633802138267 error: 2.4363760709789686\n",
      "x: [0.69296875] f(x): -0.39704633802138267 error: 2.4363760709789686\n"
     ]
    },
    {
     "data": {
      "image/png": "[encoded data removed]",
      "text/plain": [
       "<Figure size 720x864 with 2 Axes>"
      ]
     },
     "metadata": {
      "needs_background": "light"
     },
     "output_type": "display_data"
    }
   ],
   "source": [
    "draw_steps(steps_2, f2, -2, 2, (-3-73**0.5)/8)"
   ]
  },
  {
   "cell_type": "markdown",
   "id": "temporal-sleeping",
   "metadata": {},
   "source": [
    "Testowana funkcja nie jest unimodalna, posiada 2 minima lokalne. W tym przypadku, wybrany punkt startowy znajdował się po stronie minimu lokalnego, które nie jest globalnym, a przez to metoda nie odnalazła prawidłowego wyniku."
   ]
  },
  {
   "cell_type": "markdown",
   "id": "animal-female",
   "metadata": {},
   "source": [
    "> wartość początkowa: x0 = -2"
   ]
  },
  {
   "cell_type": "code",
   "execution_count": 16,
   "id": "seventh-cigarette",
   "metadata": {},
   "outputs": [],
   "source": [
    "x0_2_2 = -2"
   ]
  },
  {
   "cell_type": "code",
   "execution_count": 17,
   "id": "applicable-coating",
   "metadata": {},
   "outputs": [],
   "source": [
    "steps_2_2 = []"
   ]
  },
  {
   "cell_type": "code",
   "execution_count": 18,
   "id": "tracked-johns",
   "metadata": {},
   "outputs": [
    {
     "data": {
      "text/plain": [
       " final_simplex: (array([[-1.44296875],\n",
       "       [-1.44306641]]), array([-2.8334224 , -2.83342238]))\n",
       "           fun: -2.8334224027987562\n",
       "       message: 'Optimization terminated successfully.'\n",
       "          nfev: 30\n",
       "           nit: 15\n",
       "        status: 0\n",
       "       success: True\n",
       "             x: array([-1.44296875])"
      ]
     },
     "execution_count": 18,
     "metadata": {},
     "output_type": "execute_result"
    }
   ],
   "source": [
    "sp.minimize(f2, x0=x0_2_2, method='nelder-mead', callback=save_steps(steps_2_2))"
   ]
  },
  {
   "cell_type": "code",
   "execution_count": 19,
   "id": "incorporate-resort",
   "metadata": {
    "scrolled": false
   },
   "outputs": [
    {
     "name": "stdout",
     "output_type": "stream",
     "text": [
      "actual x:  -1.4430004681646913 actual min value:  -2.8334224090003515\n",
      "x: [-1.8] f(x): -1.8144 error: 1.0190224090003515\n",
      "x: [-1.4] f(x): -2.822399999999999 error: 0.01102240900035234\n",
      "x: [-1.4] f(x): -2.822399999999999 error: 0.01102240900035234\n",
      "x: [-1.4] f(x): -2.822399999999999 error: 0.01102240900035234\n",
      "x: [-1.45] f(x): -2.8331187500000006 error: 0.00030365900035089766\n",
      "x: [-1.45] f(x): -2.8331187500000006 error: 0.00030365900035089766\n",
      "x: [-1.4375] f(x): -2.8332366943359375 error: 0.00018571466441397178\n",
      "x: [-1.44375] f(x): -2.8334189437866217 error: 3.465213729736405e-06\n",
      "x: [-1.44375] f(x): -2.8334189437866217 error: 3.465213729736405e-06\n",
      "x: [-1.44375] f(x): -2.8334189437866217 error: 3.465213729736405e-06\n",
      "x: [-1.44296875] f(x): -2.8334224027987562 error: 6.201595237342872e-09\n",
      "x: [-1.44296875] f(x): -2.8334224027987562 error: 6.201595237342872e-09\n",
      "x: [-1.44296875] f(x): -2.8334224027987562 error: 6.201595237342872e-09\n",
      "x: [-1.44296875] f(x): -2.8334224027987562 error: 6.201595237342872e-09\n"
     ]
    },
    {
     "data": {
      "image/png": "[encoded data removed]",
      "text/plain": [
       "<Figure size 720x864 with 2 Axes>"
      ]
     },
     "metadata": {
      "needs_background": "light"
     },
     "output_type": "display_data"
    }
   ],
   "source": [
    "draw_steps(steps_2_2, f2, -2, 2, (-3-73**0.5)/8)"
   ]
  },
  {
   "cell_type": "markdown",
   "id": "french-badge",
   "metadata": {},
   "source": [
    "W przypadku tej wartości początkowej znalezione minimum jest minimum globalnym."
   ]
  },
  {
   "cell_type": "markdown",
   "id": "korean-heath",
   "metadata": {},
   "source": [
    "#### 2D"
   ]
  },
  {
   "cell_type": "code",
   "execution_count": 20,
   "id": "respected-loading",
   "metadata": {},
   "outputs": [],
   "source": [
    "f2d = lambda x: 100*(x[0]**2 - x[1])**2 + (1-x[0]**2)\n",
    "steps_2d = []"
   ]
  },
  {
   "cell_type": "code",
   "execution_count": 21,
   "id": "detected-circular",
   "metadata": {},
   "outputs": [
    {
     "data": {
      "text/plain": [
       " final_simplex: (array([[ 16.29013491, 265.20041863],\n",
       "       [ 16.15664294, 260.81469903],\n",
       "       [ 15.96744789, 254.95849337]]), array([-261.54351669, -255.09039882, -253.95931142]))\n",
       "           fun: -261.54351669007457\n",
       "       message: 'Maximum number of function evaluations has been exceeded.'\n",
       "          nfev: 400\n",
       "           nit: 214\n",
       "        status: 1\n",
       "       success: False\n",
       "             x: array([ 16.29013491, 265.20041863])"
      ]
     },
     "execution_count": 21,
     "metadata": {},
     "output_type": "execute_result"
    }
   ],
   "source": [
    "sp.minimize(f2d, x0=[1.2, 1], method='nelder-mead', callback=save_steps(steps_2d))"
   ]
  },
  {
   "cell_type": "code",
   "execution_count": 22,
   "id": "forty-houston",
   "metadata": {
    "scrolled": false
   },
   "outputs": [
    {
     "data": {
      "image/png": "[encoded data removed]",
      "text/plain": [
       "<Figure size 864x576 with 1 Axes>"
      ]
     },
     "metadata": {
      "needs_background": "light"
     },
     "output_type": "display_data"
    }
   ],
   "source": [
    "fig, ax = plt.subplots(figsize=(12, 8))\n",
    "\n",
    "actual_f = -261.54351669007457\n",
    "errors = []\n",
    "\n",
    "for step in steps_2d:\n",
    "    f_x = f2d(step)\n",
    "    error = abs(actual_f - f_x)\n",
    "    errors.append(error)\n",
    "#     print('x:', step, 'f(x):', f_x, 'error:', error)\n",
    "\n",
    "ax.bar(list(range(len(steps_2d))), errors, color='lightsteelblue')\n",
    "ax.set_title('errors')\n",
    "ax.set_xlabel('iteration number')\n",
    "ax.set_ylabel('error')\n",
    "plt.show()"
   ]
  },
  {
   "cell_type": "markdown",
   "id": "humanitarian-munich",
   "metadata": {},
   "source": [
    "W tym przypadku, metoda nie poradziła sobie ze znalezieniem minimum, przekroczony został limit liczby iteracji, wynika to z charakterystyki tej funkcji, należałoby użyć dla niej innej metody lub zwiększyć ograniczenie."
   ]
  },
  {
   "cell_type": "markdown",
   "id": "respected-maple",
   "metadata": {},
   "source": [
    "## Wnioski"
   ]
  },
  {
   "cell_type": "markdown",
   "id": "identical-baltimore",
   "metadata": {},
   "source": [
    "- Nie ma uniwersalnej metody, korzystnej dla każdego przypadku. Metodę należy dobierać ze względu na charakterystykę zadanej funkcji.\n",
    "- Minimalizacja jest wykorzystywana w wielu dziedzinach nauki, np. do znajdowania najlepszych parametrów modelu w uczeniu maszynowym czy do minimalizacji funkcji kosztu i maksymalizacji zysku."
   ]
  },
  {
   "cell_type": "markdown",
   "id": "downtown-sodium",
   "metadata": {},
   "source": [
    "M. Hawryluk 10.06.2021"
   ]
  }
 ],
 "metadata": {
  "kernelspec": {
   "display_name": "Python 3",
   "language": "python",
   "name": "python3"
  },
  "language_info": {
   "codemirror_mode": {
    "name": "ipython",
    "version": 3
   },
   "file_extension": ".py",
   "mimetype": "text/x-python",
   "name": "python",
   "nbconvert_exporter": "python",
   "pygments_lexer": "ipython3",
   "version": "3.8.6"
  }
 },
 "nbformat": 4,
 "nbformat_minor": 5
}
