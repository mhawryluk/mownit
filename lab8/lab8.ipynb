{
 "cells": [
  {
   "cell_type": "markdown",
   "id": "artificial-peace",
   "metadata": {},
   "source": [
    "# Zestaw 8. Dekompozycja spektralna"
   ]
  },
  {
   "cell_type": "code",
   "execution_count": 3,
   "id": "proprietary-player",
   "metadata": {},
   "outputs": [],
   "source": [
    "import numpy as np\n",
    "import matplotlib.pyplot as plt"
   ]
  },
  {
   "cell_type": "markdown",
   "id": "whole-greeting",
   "metadata": {},
   "source": [
    "## 1. Metoda potęgowa"
   ]
  },
  {
   "cell_type": "markdown",
   "id": "peripheral-reading",
   "metadata": {},
   "source": [
    "<i>Napisz funkcję obliczającą metodą potęgową dominującą wartość własną (największą co do modułu) i odpowiadający jej wektor własny dla danej macierzy rzeczywistej symetrycznej. Sprawdź automatycznie poprawność działania programu porównując wyniki(dominująca wartość własna i odpowiadający jej wektor własny) własnej implementacji z funkcją biblioteczną.</i>"
   ]
  },
  {
   "cell_type": "code",
   "execution_count": 173,
   "id": "every-mambo",
   "metadata": {},
   "outputs": [],
   "source": [
    "def power_iteration(A, epsilon=1e-8, max_iteration=100):\n",
    "    n = A.shape[0]\n",
    "    prev_x = np.ones(n)\n",
    "    x = A @ prev_x\n",
    "    \n",
    "    max_x = np.linalg.norm(x)\n",
    "    x = x/max_x\n",
    "    iteration = 1\n",
    "    \n",
    "    while iteration < max_iteration and np.linalg.norm(x - prev_x) > epsilon:\n",
    "        x, prev_x = A @ x, x\n",
    "        max_x = np.linalg.norm(x)\n",
    "        x = x/max_x\n",
    "        iteration += 1\n",
    "        \n",
    "    return max_x, x, iteration"
   ]
  },
  {
   "cell_type": "code",
   "execution_count": 174,
   "id": "limiting-planner",
   "metadata": {},
   "outputs": [],
   "source": [
    "A = np.random.rand(3,3)\n",
    "A = A + A.T"
   ]
  },
  {
   "cell_type": "code",
   "execution_count": 175,
   "id": "stable-setup",
   "metadata": {},
   "outputs": [
    {
     "name": "stdout",
     "output_type": "stream",
     "text": [
      "2.829759341177387\n",
      "2.8297593411773874 \n",
      "\n",
      "[0.40073401 0.48769439 0.77560714]\n",
      "[-0.40073401 -0.48769439 -0.77560714]\n"
     ]
    }
   ],
   "source": [
    "eigenvalue, eigenvector, _ = power_iteration(A)\n",
    "\n",
    "print(eigenvalue)\n",
    "print(max(np.linalg.eig(A)[0]), '\\n')\n",
    "\n",
    "print(eigenvector)\n",
    "print(np.linalg.eig(A)[1][:, 0])"
   ]
  },
  {
   "cell_type": "markdown",
   "id": "damaged-terminology",
   "metadata": {},
   "source": [
    "<i>Przedstaw na wykresie zależność czasu obliczeń obu implementacji od rozmiaru macierzy (rozmiary macierzy NxN gdzie N = range(100, 2500, 100)). Opisz i zinterpretuj wyniki.</i>"
   ]
  },
  {
   "cell_type": "markdown",
   "id": "single-premiere",
   "metadata": {},
   "source": [
    "## 2. Odwrotna metoda potęgowa"
   ]
  },
  {
   "cell_type": "code",
   "execution_count": null,
   "id": "persistent-highland",
   "metadata": {},
   "outputs": [],
   "source": []
  },
  {
   "cell_type": "markdown",
   "id": "radio-vehicle",
   "metadata": {},
   "source": [
    "## 3. Iteracje z ilorazem Rayleigha"
   ]
  },
  {
   "cell_type": "code",
   "execution_count": null,
   "id": "quick-russian",
   "metadata": {},
   "outputs": [],
   "source": []
  },
  {
   "cell_type": "markdown",
   "id": "declared-cheat",
   "metadata": {},
   "source": [
    "## Wnioski"
   ]
  },
  {
   "cell_type": "code",
   "execution_count": null,
   "id": "cognitive-columbus",
   "metadata": {},
   "outputs": [],
   "source": []
  }
 ],
 "metadata": {
  "kernelspec": {
   "display_name": "Python 3",
   "language": "python",
   "name": "python3"
  },
  "language_info": {
   "codemirror_mode": {
    "name": "ipython",
    "version": 3
   },
   "file_extension": ".py",
   "mimetype": "text/x-python",
   "name": "python",
   "nbconvert_exporter": "python",
   "pygments_lexer": "ipython3",
   "version": "3.8.6"
  }
 },
 "nbformat": 4,
 "nbformat_minor": 5
}
