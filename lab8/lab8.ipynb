{
 "cells": [
  {
   "cell_type": "markdown",
   "id": "artificial-peace",
   "metadata": {},
   "source": [
    "# Zestaw 8. Dekompozycja spektralna"
   ]
  },
  {
   "cell_type": "code",
   "execution_count": 152,
   "id": "proprietary-player",
   "metadata": {},
   "outputs": [],
   "source": [
    "import numpy as np\n",
    "import matplotlib.pyplot as plt\n",
    "from time import time\n",
    "from random import randint"
   ]
  },
  {
   "cell_type": "markdown",
   "id": "whole-greeting",
   "metadata": {},
   "source": [
    "## 1. Metoda potęgowa"
   ]
  },
  {
   "cell_type": "markdown",
   "id": "peripheral-reading",
   "metadata": {},
   "source": [
    "<i>Napisz funkcję obliczającą metodą potęgową dominującą wartość własną (największą co do modułu) i odpowiadający jej wektor własny dla danej macierzy rzeczywistej symetrycznej. Sprawdź automatycznie poprawność działania programu porównując wyniki(dominująca wartość własna i odpowiadający jej wektor własny) własnej implementacji z funkcją biblioteczną.</i>"
   ]
  },
  {
   "cell_type": "code",
   "execution_count": 2,
   "id": "every-mambo",
   "metadata": {},
   "outputs": [],
   "source": [
    "def power_iteration(A, epsilon=1e-8, max_iteration=100):\n",
    "    n = A.shape[0]\n",
    "    prev_x = np.ones(n)\n",
    "    x = A @ prev_x\n",
    "    \n",
    "    max_x = np.linalg.norm(x)\n",
    "    x = x/max_x\n",
    "    iteration = 1\n",
    "    \n",
    "    while iteration < max_iteration and np.linalg.norm(x - prev_x) > epsilon:\n",
    "        x, prev_x = A @ x, x\n",
    "        max_x = np.linalg.norm(x)\n",
    "        x = x/max_x\n",
    "        iteration += 1\n",
    "        \n",
    "    return max_x, x, iteration"
   ]
  },
  {
   "cell_type": "code",
   "execution_count": 40,
   "id": "limiting-planner",
   "metadata": {},
   "outputs": [],
   "source": [
    "A = np.random.rand(4, 4)\n",
    "A = A + A.T"
   ]
  },
  {
   "cell_type": "code",
   "execution_count": 41,
   "id": "stable-setup",
   "metadata": {},
   "outputs": [
    {
     "name": "stdout",
     "output_type": "stream",
     "text": [
      "4.01320817556498\n",
      "4.013208175564981 \n",
      "\n",
      "[0.57696035 0.41719733 0.51806353 0.47399717]\n",
      "[0.57696035 0.41719733 0.51806353 0.47399717] \n",
      "\n",
      "correct? True\n"
     ]
    }
   ],
   "source": [
    "eigenvalue, eigenvector, _ = power_iteration(A)\n",
    "np_eigenvalue, np_eigenvector = max(np.linalg.eig(A)[0]), np.linalg.eig(A)[1][:, 0]\n",
    "\n",
    "print(eigenvalue)\n",
    "print(np_eigenvalue, '\\n')\n",
    "\n",
    "print(eigenvector)\n",
    "print(np_eigenvector, '\\n')\n",
    "\n",
    "print(\"correct?\", \n",
    "     np.isclose(eigenvalue, np_eigenvalue) and\n",
    "    (np.allclose(eigenvector, np_eigenvector)\n",
    "     or np.allclose(eigenvector, -np_eigenvector)))"
   ]
  },
  {
   "cell_type": "markdown",
   "id": "damaged-terminology",
   "metadata": {},
   "source": [
    "<i>Przedstaw na wykresie zależność czasu obliczeń obu implementacji od rozmiaru macierzy (rozmiary macierzy NxN gdzie N = range(100, 2500, 100)). Opisz i zinterpretuj wyniki.</i>"
   ]
  },
  {
   "cell_type": "code",
   "execution_count": 53,
   "id": "simple-fashion",
   "metadata": {},
   "outputs": [],
   "source": [
    "def plot_times():\n",
    "    ns = list(range(100, 2500, 500))\n",
    "    power_times = []\n",
    "    np_times = []\n",
    "    \n",
    "    for n in ns:\n",
    "        A = np.random.rand(n, n)\n",
    "        A = A + A.T\n",
    "        \n",
    "        start = time()\n",
    "        power_iteration(A)\n",
    "        end = time()\n",
    "        power_times.append(end-start)\n",
    "        \n",
    "        start = time()\n",
    "        np.linalg.eig(A)\n",
    "        end = time()\n",
    "        np_times.append(end-start)\n",
    "    \n",
    "    \n",
    "    fig, ax = plt.subplots(figsize=(12, 6))\n",
    "    \n",
    "    ax.set_xlabel('n - matrix size [1]')\n",
    "    ax.set_ylabel('t - time[s]')\n",
    "    \n",
    "    ax.plot(ns, power_times, marker='o', linewidth=3, color='yellow', label='power iteration method')\n",
    "    ax.plot(ns, np_times, marker='o', linewidth=3, color='cornflowerblue', label='np.linalg.eig')\n",
    "    \n",
    "    plt.legend()\n",
    "    plt.show()"
   ]
  },
  {
   "cell_type": "code",
   "execution_count": 54,
   "id": "indoor-olympus",
   "metadata": {},
   "outputs": [
    {
     "data": {
      "image/png": "[encoded data removed]",
      "text/plain": [
       "<Figure size 864x432 with 1 Axes>"
      ]
     },
     "metadata": {
      "needs_background": "light"
     },
     "output_type": "display_data"
    }
   ],
   "source": [
    "plot_times()"
   ]
  },
  {
   "cell_type": "markdown",
   "id": "extreme-trading",
   "metadata": {},
   "source": [
    "Zaimplementowana metoda potęgowa znajduje dominującą wartość i wektor własny dużo szybciej niż funkcja biblioteczna. Wynika to w głównie z faktu, iż funkcja z biblioteki numpy zwraca wszystkie wartości i wektory własne, a wyżej zaimplementowana funkcja tylko jedną wartość i związany z nią wektor."
   ]
  },
  {
   "cell_type": "markdown",
   "id": "single-premiere",
   "metadata": {},
   "source": [
    "## 2. Odwrotna metoda potęgowa"
   ]
  },
  {
   "cell_type": "markdown",
   "id": "exceptional-spain",
   "metadata": {},
   "source": [
    "<i>Opierając się na twierdzeniu o transformacji widma macierzy oraz wykorzystując metodę potęgową i faktoryzację LU zaimplementuj odwrotną metodę potęgową pozwalającą na szybkie znalezienie wektorów własnych macierzy A, dla wartości σ bliskich odpowiedniej wartości własnej. Wykorzystaj fakt, że mnożenie wektora $x_i$ przez macierz $A^{−1}$ odpowiada rozwiązaniu układu równań $Ax_{i+1} = x_i$.\n",
    "\n",
    "Opisz poszczególne kroki algorytmu i zinterpretuj wyniki. </i>"
   ]
  },
  {
   "cell_type": "code",
   "execution_count": 59,
   "id": "middle-heart",
   "metadata": {},
   "outputs": [],
   "source": [
    "def lu_factorization(A):\n",
    "    n = A.shape[0]\n",
    "    A = A.copy()\n",
    "    U = A.copy()\n",
    "    L = np.zeros((n, n))\n",
    "    I = np.eye(n)\n",
    "    \n",
    "    scales = [max(A[i,:], key=lambda x: abs(x)) for i in range(n)]\n",
    "    \n",
    "    for i in range(n):\n",
    "        max_a = 0\n",
    "        p = -1\n",
    "        \n",
    "        for row in range(i, n):\n",
    "            if abs(U[row, i]/scales[row]) > max_a:\n",
    "                max_a = abs(U[row, i])/scales[row]\n",
    "                p = row\n",
    "                \n",
    "        if p == -1:\n",
    "            return\n",
    "        \n",
    "        A[[p, i]] = A[[i, p]]\n",
    "        U[[p, i]] = U[[i, p]]\n",
    "        L[[p, i]] = L[[i, p]]\n",
    "        I[[p, i]] = I[[i, p]]\n",
    "        L[i, i] = 1\n",
    "        \n",
    "        for j in range(i+1, n):\n",
    "            a = U[j, i]\n",
    "            U[j,:] -= (U[j, i]/U[i, i])* U[i, :]\n",
    "            L[j, i] = a/U[i, i]\n",
    "    \n",
    "    return L, U, A, I\n",
    "\n",
    "def lu_solve(A, B):\n",
    "    n = A.shape[0]\n",
    "    L, U, A, I = lu_factorization(A)\n",
    "    B = I @ B\n",
    "    \n",
    "    y = np.zeros(n)\n",
    "    for i in range(n):\n",
    "        y[i] = (B[i] - np.sum(L[i, :i]*y[:i]))\n",
    "    \n",
    "    x = np.zeros(n)\n",
    "    for i in range(n-1, -1, -1):\n",
    "        x[i] = (y[i] - np.sum(U[i, i+1:]*x[i+1:]))/U[i, i]\n",
    "        \n",
    "    return x"
   ]
  },
  {
   "cell_type": "code",
   "execution_count": 179,
   "id": "funded-somerset",
   "metadata": {},
   "outputs": [],
   "source": [
    "def inverse_power(A, sigma, epsilon=1e-4, max_iteration=100):\n",
    "    n = A.shape[0]\n",
    "    A = A - sigma*np.eye(n)\n",
    "    \n",
    "    prev_x = np.ones(n)\n",
    "    x = A @ prev_x\n",
    "    \n",
    "    max_x = np.linalg.norm(x)\n",
    "    x = x/max_x\n",
    "    iteration = 1\n",
    "    \n",
    "    while iteration < max_iteration and np.linalg.norm(x - prev_x) > epsilon and not np.allclose(x, -prev_x):\n",
    "        x, prev_x = lu_solve(A, x), x\n",
    "        max_x = np.linalg.norm(x)\n",
    "        x = x/max_x\n",
    "        \n",
    "        iteration += 1\n",
    "        \n",
    "    return 1/(max_x) + sigma, x, iteration"
   ]
  },
  {
   "cell_type": "code",
   "execution_count": 180,
   "id": "invalid-satisfaction",
   "metadata": {},
   "outputs": [
    {
     "name": "stdout",
     "output_type": "stream",
     "text": [
      "4.013208176974812 [0.57697258 0.41718647 0.51807101 0.47398367] 11\n",
      "4.013208175564981 [0.57696035 0.41719733 0.51806353 0.47399717]\n",
      "\n",
      "4.013208175564981 [0.57696035 0.41719733 0.51806353 0.47399717]\n",
      "-1.1912218567499024 [ 0.60929437 -0.03428659 -0.77962034  0.14063048]\n",
      "0.4167527361710363 [-0.54291722  0.45334334 -0.33162976  0.62429353]\n",
      "-0.42760492554738005 [-0.03343676 -0.7869248   0.11757553  0.60482009]\n"
     ]
    }
   ],
   "source": [
    "sigma = 3\n",
    "print(*inverse_power(A, sigma))\n",
    "\n",
    "eig_values, eig_vectors = np.linalg.eig(A)\n",
    "\n",
    "closest = min(range(len(eig_vectors)), key=lambda i: abs(eig_values[i] - sigma))\n",
    "\n",
    "print(eig_values[closest], eig_vectors[:, closest])\n",
    "print()\n",
    "\n",
    "for i in range(len(eig_values)):\n",
    "    print(eig_values[i], eig_vectors[:, i])"
   ]
  },
  {
   "cell_type": "markdown",
   "id": "related-armenia",
   "metadata": {},
   "source": [
    "kroki algorytmu:"
   ]
  },
  {
   "cell_type": "markdown",
   "id": "featured-bennett",
   "metadata": {},
   "source": [
    "interpretacja wyników:"
   ]
  },
  {
   "cell_type": "markdown",
   "id": "radio-vehicle",
   "metadata": {},
   "source": [
    "## 3. Iteracje z ilorazem Rayleigha"
   ]
  },
  {
   "cell_type": "markdown",
   "id": "clean-smart",
   "metadata": {},
   "source": [
    "<i> Zaimplementuj iteracyjną metodę wyznaczania wartości własnej i skojarzonego z nią wektora własnego wykorzystując odwróconą metodę potęgową oraz iloraz Rayleigha. Porównaj zbieżność metody ze zbieżnością algorytmu potęgowego (macierz symetryczna rzeczywista). Opisz poszczególne kroki algorytmu i zinterpretuj wyniki. </i>"
   ]
  },
  {
   "cell_type": "code",
   "execution_count": 181,
   "id": "psychological-namibia",
   "metadata": {},
   "outputs": [],
   "source": [
    "def inverse_rayleigh(A, sigma, epsilon=1e-4, max_iteration=100):\n",
    "    n = A.shape[0]\n",
    "    M = A - sigma*np.eye(n)\n",
    "    \n",
    "    prev_x = np.ones(n)\n",
    "    x = A @ prev_x\n",
    "    \n",
    "    max_x = np.linalg.norm(x)\n",
    "    x = x/max_x\n",
    "    iteration = 1\n",
    "    \n",
    "    while iteration < max_iteration and np.linalg.norm(x - prev_x) > epsilon and not np.allclose(x, -prev_x):\n",
    "        sigma = (x@A@x.T)/(x@x.T)\n",
    "        M = A - sigma*np.eye(n)\n",
    "        \n",
    "        x, prev_x = lu_solve(M, x), x\n",
    "        max_x = np.linalg.norm(x)\n",
    "        x = x/max_x\n",
    "        \n",
    "        iteration += 1\n",
    "        \n",
    "    return 1/(max_x) + sigma, x, iteration"
   ]
  },
  {
   "cell_type": "code",
   "execution_count": 182,
   "id": "cooked-republic",
   "metadata": {},
   "outputs": [
    {
     "name": "stdout",
     "output_type": "stream",
     "text": [
      "4.013208175564978 [0.57696035 0.41719733 0.51806353 0.47399717] 3\n",
      "4.013208175564981 [0.57696035 0.41719733 0.51806353 0.47399717]\n",
      "\n",
      "4.013208175564981 [0.57696035 0.41719733 0.51806353 0.47399717]\n",
      "-1.1912218567499024 [ 0.60929437 -0.03428659 -0.77962034  0.14063048]\n",
      "0.4167527361710363 [-0.54291722  0.45334334 -0.33162976  0.62429353]\n",
      "-0.42760492554738005 [-0.03343676 -0.7869248   0.11757553  0.60482009]\n"
     ]
    }
   ],
   "source": [
    "sigma = 3\n",
    "print(*inverse_rayleigh(A, sigma))\n",
    "\n",
    "eig_values, eig_vectors = np.linalg.eig(A)\n",
    "\n",
    "closest = min(range(len(eig_vectors)), key=lambda i: abs(eig_values[i] - sigma))\n",
    "\n",
    "print(eig_values[closest], eig_vectors[:, closest])\n",
    "print()\n",
    "\n",
    "for i in range(len(eig_values)):\n",
    "    print(eig_values[i], eig_vectors[:, i])"
   ]
  },
  {
   "cell_type": "code",
   "execution_count": 183,
   "id": "greater-glossary",
   "metadata": {},
   "outputs": [],
   "source": [
    "def compare_convergence():\n",
    "    ns = list(range(5, 100, 10))\n",
    "    inverse_times = []\n",
    "    rayleigh_times = []\n",
    "    \n",
    "    inverse_iterations = []\n",
    "    rayleigh_iterations = []\n",
    "    \n",
    "    for n in ns:\n",
    "        A = np.random.rand(n, n)\n",
    "        A = A + A.T\n",
    "        sigma = 0\n",
    "        \n",
    "        start = time()\n",
    "        _, _, iterations = inverse_power(A, sigma)\n",
    "        end = time()\n",
    "        inverse_iterations.append(iterations)\n",
    "        inverse_times.append(end - start)\n",
    "        \n",
    "        start = time()\n",
    "        _, _, iterations = inverse_rayleigh(A, sigma)\n",
    "        end = time()\n",
    "        rayleigh_iterations.append(iterations)\n",
    "        rayleigh_times.append(end - start)\n",
    "        \n",
    "    fig, ax = plt.subplots(1, 2, figsize=(12,6))\n",
    "    ax[0].set_xlabel('n - matrix size [1]')\n",
    "    ax[0].set_ylabel('i - iterations needed [1]')\n",
    "    \n",
    "    ax[1].set_xlabel('n - matrix size [1]')\n",
    "    ax[1].set_ylabel('t - time [s]')\n",
    "    \n",
    "    ax[0].plot(ns, inverse_iterations, label='inverse power method', marker='o', linewidth=3, color='sandybrown')\n",
    "    ax[0].plot(ns, rayleigh_iterations, label='inverse power method with Rayleigh quotient', marker='o', linewidth=3, color='rosybrown')\n",
    "    \n",
    "    \n",
    "    ax[1].plot(ns, inverse_times, label='inverse power method', marker='o', linewidth=3, color='sandybrown')\n",
    "    ax[1].plot(ns, rayleigh_times, label='inverse power method with Rayleigh quotient', marker='o', linewidth=3, color='rosybrown')\n",
    "    \n",
    "    plt.legend()\n",
    "    plt.show()\n",
    "        "
   ]
  },
  {
   "cell_type": "code",
   "execution_count": 184,
   "id": "accessible-liechtenstein",
   "metadata": {},
   "outputs": [
    {
     "data": {
      "image/png": "[encoded data removed]",
      "text/plain": [
       "<Figure size 864x432 with 2 Axes>"
      ]
     },
     "metadata": {
      "needs_background": "light"
     },
     "output_type": "display_data"
    }
   ],
   "source": [
    "compare_convergence()"
   ]
  },
  {
   "cell_type": "markdown",
   "id": "fancy-moldova",
   "metadata": {},
   "source": [
    "kroki algorytmu:"
   ]
  },
  {
   "cell_type": "markdown",
   "id": "incomplete-amsterdam",
   "metadata": {},
   "source": [
    "wyniki: Dzięki użyciu ilorazu Rayleigha procedura zbiega dużo szybciej."
   ]
  },
  {
   "cell_type": "markdown",
   "id": "declared-cheat",
   "metadata": {},
   "source": [
    "## Wnioski"
   ]
  },
  {
   "cell_type": "markdown",
   "id": "embedded-turning",
   "metadata": {},
   "source": [
    "- Jesteśmy w stanie w stosunkowo szybki sposób znajdować przybliżenia wartości i wektorów własnych, w szczególności jeśli interesuje nas tylko największa wartość, lub najbliższa danej liczby.\n",
    "- Dekompozycja spektralna przydaja się w wielu zagadnieniach matematycznych."
   ]
  },
  {
   "cell_type": "markdown",
   "id": "excess-terminology",
   "metadata": {},
   "source": [
    "M. Hawryluk 09.05.2021"
   ]
  }
 ],
 "metadata": {
  "kernelspec": {
   "display_name": "Python 3",
   "language": "python",
   "name": "python3"
  },
  "language_info": {
   "codemirror_mode": {
    "name": "ipython",
    "version": 3
   },
   "file_extension": ".py",
   "mimetype": "text/x-python",
   "name": "python",
   "nbconvert_exporter": "python",
   "pygments_lexer": "ipython3",
   "version": "3.8.6"
  }
 },
 "nbformat": 4,
 "nbformat_minor": 5
}
